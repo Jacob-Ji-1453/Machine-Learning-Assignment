{
 "cells": [
  {
   "cell_type": "markdown",
   "metadata": {
    "deletable": true,
    "editable": true
   },
   "source": [
    "\n",
    "### The University of Melbourne, School of Computing and Information Systems\n",
    "# COMP30027 Machine Learning, 2020 Semester 1\n",
    "\n",
    "## Assignment 2: Sentiment Analysis from Twitter\n",
    "\n",
    "###### Submission deadline: \n",
    "###### Stage I: Friday 29 May, 11am\n",
    "###### Stage II: Friday 5 June, 11am"
   ]
  },
  {
   "cell_type": "markdown",
   "metadata": {
    "deletable": true,
    "editable": true
   },
   "source": [
    "**Student ID(s):**     969610\n"
   ]
  },
  {
   "cell_type": "code",
   "execution_count": 1,
   "metadata": {
    "collapsed": true,
    "deletable": true,
    "editable": true
   },
   "outputs": [],
   "source": [
    "# Import needed libraries\n",
    "import pandas as pd\n",
    "import numpy as np\n",
    "import matplotlib.pyplot as plt"
   ]
  },
  {
   "cell_type": "markdown",
   "metadata": {
    "deletable": true,
    "editable": true
   },
   "source": [
    "## Data overview"
   ]
  },
  {
   "cell_type": "code",
   "execution_count": 2,
   "metadata": {
    "collapsed": true,
    "deletable": true,
    "editable": true
   },
   "outputs": [],
   "source": [
    "# Read .csv files\n",
    "text_train = pd.read_csv(\"COMP30027_2020_assignment2_datasets/review_text_train.csv\")\n",
    "meta_train = pd.read_csv(\"COMP30027_2020_assignment2_datasets/review_meta_train.csv\")"
   ]
  },
  {
   "cell_type": "code",
   "execution_count": 3,
   "metadata": {
    "collapsed": false,
    "deletable": true,
    "editable": true
   },
   "outputs": [
    {
     "data": {
      "text/html": [
       "<div>\n",
       "<style scoped>\n",
       "    .dataframe tbody tr th:only-of-type {\n",
       "        vertical-align: middle;\n",
       "    }\n",
       "\n",
       "    .dataframe tbody tr th {\n",
       "        vertical-align: top;\n",
       "    }\n",
       "\n",
       "    .dataframe thead th {\n",
       "        text-align: right;\n",
       "    }\n",
       "</style>\n",
       "<table border=\"1\" class=\"dataframe\">\n",
       "  <thead>\n",
       "    <tr style=\"text-align: right;\">\n",
       "      <th></th>\n",
       "      <th>review</th>\n",
       "    </tr>\n",
       "  </thead>\n",
       "  <tbody>\n",
       "    <tr>\n",
       "      <th>0</th>\n",
       "      <td>dear longman &amp; eagle.......you've left me no c...</td>\n",
       "    </tr>\n",
       "    <tr>\n",
       "      <th>1</th>\n",
       "      <td>Delish. The hubby and I wanted to do brunch on...</td>\n",
       "    </tr>\n",
       "    <tr>\n",
       "      <th>2</th>\n",
       "      <td>yep, I've giving Yolk 5 stars. It's just reall...</td>\n",
       "    </tr>\n",
       "    <tr>\n",
       "      <th>3</th>\n",
       "      <td>Meat, meat, meat. It's meat-tastic. So much me...</td>\n",
       "    </tr>\n",
       "    <tr>\n",
       "      <th>4</th>\n",
       "      <td>I caught up with the law school girls on a Sat...</td>\n",
       "    </tr>\n",
       "  </tbody>\n",
       "</table>\n",
       "</div>"
      ],
      "text/plain": [
       "                                              review\n",
       "0  dear longman & eagle.......you've left me no c...\n",
       "1  Delish. The hubby and I wanted to do brunch on...\n",
       "2  yep, I've giving Yolk 5 stars. It's just reall...\n",
       "3  Meat, meat, meat. It's meat-tastic. So much me...\n",
       "4  I caught up with the law school girls on a Sat..."
      ]
     },
     "execution_count": 3,
     "metadata": {},
     "output_type": "execute_result"
    }
   ],
   "source": [
    "text_train.head()"
   ]
  },
  {
   "cell_type": "code",
   "execution_count": 4,
   "metadata": {
    "collapsed": false,
    "deletable": true,
    "editable": true
   },
   "outputs": [
    {
     "data": {
      "text/plain": [
       "review    dear longman & eagle.......you've left me no c...\n",
       "Name: 0, dtype: object"
      ]
     },
     "execution_count": 4,
     "metadata": {},
     "output_type": "execute_result"
    }
   ],
   "source": [
    "text_train.iloc[0]"
   ]
  },
  {
   "cell_type": "code",
   "execution_count": 5,
   "metadata": {
    "collapsed": false,
    "deletable": true,
    "editable": true
   },
   "outputs": [
    {
     "data": {
      "text/html": [
       "<div>\n",
       "<style scoped>\n",
       "    .dataframe tbody tr th:only-of-type {\n",
       "        vertical-align: middle;\n",
       "    }\n",
       "\n",
       "    .dataframe tbody tr th {\n",
       "        vertical-align: top;\n",
       "    }\n",
       "\n",
       "    .dataframe thead th {\n",
       "        text-align: right;\n",
       "    }\n",
       "</style>\n",
       "<table border=\"1\" class=\"dataframe\">\n",
       "  <thead>\n",
       "    <tr style=\"text-align: right;\">\n",
       "      <th></th>\n",
       "      <th>date</th>\n",
       "      <th>review_id</th>\n",
       "      <th>reviewer_id</th>\n",
       "      <th>business_id</th>\n",
       "      <th>vote_funny</th>\n",
       "      <th>vote_cool</th>\n",
       "      <th>vote_useful</th>\n",
       "      <th>rating</th>\n",
       "    </tr>\n",
       "  </thead>\n",
       "  <tbody>\n",
       "    <tr>\n",
       "      <th>0</th>\n",
       "      <td>3/15/2012</td>\n",
       "      <td>-s77HISu8DVQ8F0HxmWW6A</td>\n",
       "      <td>mthr7h15a_z9m9jRI6mG6Q</td>\n",
       "      <td>m5_GCJP2W4zEJnyVgxa3eA</td>\n",
       "      <td>0</td>\n",
       "      <td>1</td>\n",
       "      <td>3</td>\n",
       "      <td>1</td>\n",
       "    </tr>\n",
       "    <tr>\n",
       "      <th>1</th>\n",
       "      <td>6/21/2010</td>\n",
       "      <td>A2aCzGCgg6gAbatHiCrPfA</td>\n",
       "      <td>rhM01fl3iU0xHr3TIpCMhQ</td>\n",
       "      <td>m5_GCJP2W4zEJnyVgxa3eA</td>\n",
       "      <td>0</td>\n",
       "      <td>0</td>\n",
       "      <td>0</td>\n",
       "      <td>5</td>\n",
       "    </tr>\n",
       "    <tr>\n",
       "      <th>2</th>\n",
       "      <td>7/29/2011</td>\n",
       "      <td>DK2pd</td>\n",
       "      <td>SNHKDgmGiLn5chUlhdLCkg</td>\n",
       "      <td>CwPi6NVuJIZZx4IBcTekFQ</td>\n",
       "      <td>1</td>\n",
       "      <td>0</td>\n",
       "      <td>1</td>\n",
       "      <td>5</td>\n",
       "    </tr>\n",
       "    <tr>\n",
       "      <th>3</th>\n",
       "      <td>3/10/2006</td>\n",
       "      <td>b3BkUiWJEKNQko</td>\n",
       "      <td>HXjk1RVfLMPeZxitnk1Auw</td>\n",
       "      <td>43rd1LKcZRIunySzbMsyLQ</td>\n",
       "      <td>17</td>\n",
       "      <td>3</td>\n",
       "      <td>3</td>\n",
       "      <td>3</td>\n",
       "    </tr>\n",
       "    <tr>\n",
       "      <th>4</th>\n",
       "      <td>8/28/2012</td>\n",
       "      <td>RabHhte</td>\n",
       "      <td>W0ny0BqO0OJ4K4aVnSIlBw</td>\n",
       "      <td>CwPi6NVuJIZZx4IBcTekFQ</td>\n",
       "      <td>0</td>\n",
       "      <td>0</td>\n",
       "      <td>0</td>\n",
       "      <td>3</td>\n",
       "    </tr>\n",
       "  </tbody>\n",
       "</table>\n",
       "</div>"
      ],
      "text/plain": [
       "        date               review_id             reviewer_id  \\\n",
       "0  3/15/2012  -s77HISu8DVQ8F0HxmWW6A  mthr7h15a_z9m9jRI6mG6Q   \n",
       "1  6/21/2010  A2aCzGCgg6gAbatHiCrPfA  rhM01fl3iU0xHr3TIpCMhQ   \n",
       "2  7/29/2011                   DK2pd  SNHKDgmGiLn5chUlhdLCkg   \n",
       "3  3/10/2006          b3BkUiWJEKNQko  HXjk1RVfLMPeZxitnk1Auw   \n",
       "4  8/28/2012                 RabHhte  W0ny0BqO0OJ4K4aVnSIlBw   \n",
       "\n",
       "              business_id  vote_funny  vote_cool  vote_useful  rating  \n",
       "0  m5_GCJP2W4zEJnyVgxa3eA           0          1            3       1  \n",
       "1  m5_GCJP2W4zEJnyVgxa3eA           0          0            0       5  \n",
       "2  CwPi6NVuJIZZx4IBcTekFQ           1          0            1       5  \n",
       "3  43rd1LKcZRIunySzbMsyLQ          17          3            3       3  \n",
       "4  CwPi6NVuJIZZx4IBcTekFQ           0          0            0       3  "
      ]
     },
     "execution_count": 5,
     "metadata": {},
     "output_type": "execute_result"
    }
   ],
   "source": [
    "# 4 feedback voting are at the end in this .csv file, where they could be guideline in later analysis\n",
    "\n",
    "meta_train.head()"
   ]
  },
  {
   "cell_type": "code",
   "execution_count": 6,
   "metadata": {
    "collapsed": false,
    "deletable": true,
    "editable": true
   },
   "outputs": [
    {
     "data": {
      "text/plain": [
       "date                        3/15/2012\n",
       "review_id      -s77HISu8DVQ8F0HxmWW6A\n",
       "reviewer_id    mthr7h15a_z9m9jRI6mG6Q\n",
       "business_id    m5_GCJP2W4zEJnyVgxa3eA\n",
       "vote_funny                          0\n",
       "vote_cool                           1\n",
       "vote_useful                         3\n",
       "rating                              1\n",
       "Name: 0, dtype: object"
      ]
     },
     "execution_count": 6,
     "metadata": {},
     "output_type": "execute_result"
    }
   ],
   "source": [
    "meta_train.iloc[0]"
   ]
  },
  {
   "cell_type": "code",
   "execution_count": 7,
   "metadata": {
    "collapsed": false,
    "deletable": true,
    "editable": true
   },
   "outputs": [
    {
     "name": "stdout",
     "output_type": "stream",
     "text": [
      "Review index is 14302\n",
      "\n",
      "\n",
      "Rating is 1\n",
      "\n",
      "\n",
      "Review is \n",
      "In case you missed it, Graham Elliot Bowles told The Tribune his biggest pet peeve about diners is yelp. Here's the link: http://www.chicagotribun Well now I can see why. People might actually tell the truth! But I wasn't going to hold that against him. I mean a good restaurant is a good restaurant. I like food. And drinks. I just don't like paying through the nose for average food and horrible service. Here's a quick rundown on the food, in case you don't believe me and decide to eat there: Popcorn: I don't know. We didn't get any! This was the start of the joke of a dining experience we had at GE. It wasn't until we were mid-entree that we noticed people that walked in after us were given popcorn upon arrival. Then we remembered that annoying popping sound on the website and realized we'd been had! Chopin's Prelude cocktail: Nothing special. Had a pickled potato at the bottom, but that certainly didn't make or break it. If there was some sort of complex flavor combo, I didn't taste it. Considering they literally had someone's name with the title \"mixologist\" on the menu, you'd think they'd nail this shit all day. Oysters: Disgusting. After only a couple attempts at eating raw oysters, I've realized I simply can't do it without a bunch of horseradish and cocktail sauce, so this really isn't the fault of the restaurant. I guess I shouldn't have taken part in this order, but I heard something about champagne foam and got sold like an old shoe. Graham topped all 4 (srsly? $11 for 4 oysters?) with a different topping for each, so I only tried 2, but both should have been featured in the magazine Nasty Nast Traveler. Risotto app: Pretty good, but a very small portion. Had some sausage and fresh basil which was nice. It was topped with cheese, which I thought was kind of cheating. I mean, I could put cheese on cigarette butt and it would taste good. I'm actually messing around in the kitchen and making risotto for breakfast now btw. I'll let you know how it turns out later in the review. Crispy pheasant with foie gravy: This was the main course that all the servers seemed to rave about. I guess it's a play on chicken and waffles. The foie gras flavor in the small amount of gravy they gave me was all but absent. The pheasant was crispy and good, but really? This is the best you've got? This is a $16 entree priced at $35. After our entrees, we were so annoyed we decided to skip dessert. Just then we finally received our second round of cocktails that we'd ordered literally 25 minutes prior and had to ask for twice. I'll race anybody that thinks it takes half that amount of time to make a dirty martini. Our waiter was unapologetic as he delivered them just after our plates were cleared. We asked for the check, and he screwed that up too. More waiting. Now generally, as long as I'm getting what I order, my attitude can best be described as something along the lines of, \"I just don't give a fuck,\" but this was the worst service I've ever had at a restaurant. No joke. And when you're paying $80/person before tip, your expectations tend to raise a little. So I decided to do something I've never done before, I asked to speak to the manager. Pal, who claims to be the GM, introduced himself and handed us a business card with his name WRITTEN on it. Ok, first off dude, you're the GM of a nice restaurant charging exorbitant prices. Someone needs to pony up for some business cards with your name actually printed on them. We explained our horrible experience with our server to him, and rather than you know, doing anything about it or saying he'd talk to the waiter, he said something like, \"This is a very good restaurant, we hope to see you again soon for a better experience.\" What? So I said, \"Well at this point I have no plans to come back. We paid a lot of money and had a bad experience. Why would I come back?\" I was pretty mad at this point. I figured he'd hand me a gift certificate or something which I'd probably tear up on throw on the ground on or give to someone, but no. \"I'm sorry, and we'll look forward to seeing you again.\" Wow, Pal, if there were a customer service class, you would have aced it buddy. Next time I hear a restaurant is \"unassuming' or \"playful\" I'll know the English translation for that is \"classless ripoff\". This place should change it's name to Bowles Movement, because they treat you like shit. Anyway, enough about GE. Reliving the memory of last night is giving me diarrhea and hypertension. On to happier topics, like a risotto update. I just fucking rocked that. Mushrooms, bacon, egg whites, truffle salt, and cheddar. Yeah, I cheated too. PM for recipe info.\n",
      "\n"
     ]
    }
   ],
   "source": [
    "# Highest vote funny comment\n",
    "# We can find that vote funny sometimes does not mean high-rating \n",
    "print(\"Review index is \", end=\"\")\n",
    "print(meta_train[\"vote_funny\"].idxmax())\n",
    "print(\"\\n\")\n",
    "print(\"Rating is \", end=\"\")\n",
    "print(meta_train[\"rating\"][meta_train[\"vote_funny\"].idxmax()])\n",
    "print(\"\\n\")\n",
    "print(\"Review is \")\n",
    "print(text_train.iloc[meta_train[\"vote_funny\"].idxmax(),0])"
   ]
  },
  {
   "cell_type": "code",
   "execution_count": 8,
   "metadata": {
    "collapsed": false,
    "deletable": true,
    "editable": true
   },
   "outputs": [
    {
     "name": "stdout",
     "output_type": "stream",
     "text": [
      "Review index is 2214\n",
      "\n",
      "\n",
      "Rating is 5\n",
      "\n",
      "\n",
      "Review is \n",
      "Back in November, I told my boyfriend that I was going to take him out to dinner for his birthday and told him to think of an amazing place to go. He told me he wanted to go to Schwa. So I looked into it, and called for a reservation. In late November. In very early December they got back to me. And I missed the call. So I swore repeatedly, then called them back and left a message. They got back to me later that week saying they had an opening for two that very night. So I accepted and had a mini-stroke and then called my boyfriend to tell him to get hyped for some AMAZING food. So we got all giddy and starting thinking about the wines we were going to bring and what to wear and so on... And then Schwa called back, saying that the City of Chicago was going to be doing some work on or near the building and that their water was going to be shut off. Which, for those of you doing the math at home, meant that the whole restaurant had to be closed for the night. So the reservation we JUST MADE was null and void. The guys at Schwa were all kinds of apologetic about it and offered me the pick of the reservation litter: any day and time I wanted. So I went for a spot a week later, and broke the news to the boyfriend. A week later, I lost my job. The day after I lost my job, we were due to go to Schwa. Boyfriend told me to cancel the reservation and save my money and that we'll go when our finances are less tight. So I make the call and tell the boys at Schwa that they can give our spot away because I can no longer afford to eat there. They're sympathetic - and maybe a little moreso than the average schmuck on the street, because we've been playing phone tag for something like a month - and express their condolences. Five minutes later my phone rings. It's Schwa. They want us to come for dinner ANYWAY. And dinner is on them. We will be dining at the cost of FREE FIFTY-FREE. And then I cried. Because this kind of nonsense doesn't HAPPEN - not in real life, and certainly not to me. So we got ourselves prettied up and buy some wine, and headed on out to Wicker Park. And the gentlemen at Schwa were wonderful - personable, comfortable with the food (and they should be - the cooks are serving you and running the show there), and smartassed in a way you LIKE because it reminds you of your best friends who happen to be amazing chefs. (What? You don't have best friends like that? More's the pity, but you will FEEL like you have best friends like that while you're here.) And the food at Schwa was nothing short of AMAZING - the quail egg ravioli in brown butter with shaved white truffle, the veal heart with huckleberries, the apple pie soup, and the deconstructed PB&J dessert with black pepper ice cream were absolute standouts. I can't say enough good things about the food and it'll be a long damn time before I stop singing the praises of the chefs. We had an amazing night thanks entirely to the kindness and generosity of the gentlemen who run Schwa. Thank you, Schwa. Thank you so much. I want to send you cupcakes and hug all of you and you're all amazing, generous, wonderful people. Thank you.\n",
      "\n"
     ]
    }
   ],
   "source": [
    "# Highest vote cool comment\n",
    "print(\"Review index is \", end=\"\")\n",
    "print(meta_train[\"vote_cool\"].idxmax())\n",
    "print(\"\\n\")\n",
    "print(\"Rating is \", end=\"\")\n",
    "print(meta_train[\"rating\"][meta_train[\"vote_cool\"].idxmax()])\n",
    "print(\"\\n\")\n",
    "print(\"Review is \")\n",
    "print(text_train.iloc[meta_train[\"vote_cool\"].idxmax(),0])"
   ]
  },
  {
   "cell_type": "code",
   "execution_count": 9,
   "metadata": {
    "collapsed": false,
    "deletable": true,
    "editable": true
   },
   "outputs": [
    {
     "name": "stdout",
     "output_type": "stream",
     "text": [
      "Review index is 2214\n",
      "\n",
      "\n",
      "Rating is 5\n",
      "\n",
      "\n",
      "Review is \n",
      "Back in November, I told my boyfriend that I was going to take him out to dinner for his birthday and told him to think of an amazing place to go. He told me he wanted to go to Schwa. So I looked into it, and called for a reservation. In late November. In very early December they got back to me. And I missed the call. So I swore repeatedly, then called them back and left a message. They got back to me later that week saying they had an opening for two that very night. So I accepted and had a mini-stroke and then called my boyfriend to tell him to get hyped for some AMAZING food. So we got all giddy and starting thinking about the wines we were going to bring and what to wear and so on... And then Schwa called back, saying that the City of Chicago was going to be doing some work on or near the building and that their water was going to be shut off. Which, for those of you doing the math at home, meant that the whole restaurant had to be closed for the night. So the reservation we JUST MADE was null and void. The guys at Schwa were all kinds of apologetic about it and offered me the pick of the reservation litter: any day and time I wanted. So I went for a spot a week later, and broke the news to the boyfriend. A week later, I lost my job. The day after I lost my job, we were due to go to Schwa. Boyfriend told me to cancel the reservation and save my money and that we'll go when our finances are less tight. So I make the call and tell the boys at Schwa that they can give our spot away because I can no longer afford to eat there. They're sympathetic - and maybe a little moreso than the average schmuck on the street, because we've been playing phone tag for something like a month - and express their condolences. Five minutes later my phone rings. It's Schwa. They want us to come for dinner ANYWAY. And dinner is on them. We will be dining at the cost of FREE FIFTY-FREE. And then I cried. Because this kind of nonsense doesn't HAPPEN - not in real life, and certainly not to me. So we got ourselves prettied up and buy some wine, and headed on out to Wicker Park. And the gentlemen at Schwa were wonderful - personable, comfortable with the food (and they should be - the cooks are serving you and running the show there), and smartassed in a way you LIKE because it reminds you of your best friends who happen to be amazing chefs. (What? You don't have best friends like that? More's the pity, but you will FEEL like you have best friends like that while you're here.) And the food at Schwa was nothing short of AMAZING - the quail egg ravioli in brown butter with shaved white truffle, the veal heart with huckleberries, the apple pie soup, and the deconstructed PB&J dessert with black pepper ice cream were absolute standouts. I can't say enough good things about the food and it'll be a long damn time before I stop singing the praises of the chefs. We had an amazing night thanks entirely to the kindness and generosity of the gentlemen who run Schwa. Thank you, Schwa. Thank you so much. I want to send you cupcakes and hug all of you and you're all amazing, generous, wonderful people. Thank you.\n",
      "\n"
     ]
    }
   ],
   "source": [
    "# Highest vote useful comment\n",
    "print(\"Review index is \", end=\"\")\n",
    "print(meta_train[\"vote_useful\"].idxmax())\n",
    "print(\"\\n\")\n",
    "print(\"Rating is \", end=\"\")\n",
    "print(meta_train[\"rating\"][meta_train[\"vote_useful\"].idxmax()])\n",
    "print(\"\\n\")\n",
    "print(\"Review is \")\n",
    "print(text_train.iloc[meta_train[\"vote_useful\"].idxmax(),0])"
   ]
  },
  {
   "cell_type": "code",
   "execution_count": 10,
   "metadata": {
    "collapsed": false,
    "deletable": true,
    "editable": true
   },
   "outputs": [
    {
     "data": {
      "text/plain": [
       "(28068, 8)"
      ]
     },
     "execution_count": 10,
     "metadata": {},
     "output_type": "execute_result"
    }
   ],
   "source": [
    "# Data size\n",
    "meta_train.shape"
   ]
  },
  {
   "cell_type": "code",
   "execution_count": 11,
   "metadata": {
    "collapsed": false,
    "deletable": true,
    "editable": true
   },
   "outputs": [
    {
     "data": {
      "text/plain": [
       "0    1\n",
       "1    5\n",
       "2    5\n",
       "3    3\n",
       "4    3\n",
       "Name: rating, dtype: int64"
      ]
     },
     "execution_count": 11,
     "metadata": {},
     "output_type": "execute_result"
    }
   ],
   "source": [
    "rating = meta_train.rating\n",
    "rating.head()"
   ]
  },
  {
   "cell_type": "code",
   "execution_count": 12,
   "metadata": {
    "collapsed": false,
    "deletable": true,
    "editable": true
   },
   "outputs": [
    {
     "data": {
      "text/plain": [
       "5    19288\n",
       "3     6444\n",
       "1     2336\n",
       "Name: rating, dtype: int64"
      ]
     },
     "execution_count": 12,
     "metadata": {},
     "output_type": "execute_result"
    }
   ],
   "source": [
    "# This is an uneven distribution\n",
    "rating.value_counts()"
   ]
  },
  {
   "cell_type": "code",
   "execution_count": 13,
   "metadata": {
    "collapsed": false,
    "deletable": true,
    "editable": true
   },
   "outputs": [
    {
     "data": {
      "text/html": [
       "<div>\n",
       "<style scoped>\n",
       "    .dataframe tbody tr th:only-of-type {\n",
       "        vertical-align: middle;\n",
       "    }\n",
       "\n",
       "    .dataframe tbody tr th {\n",
       "        vertical-align: top;\n",
       "    }\n",
       "\n",
       "    .dataframe thead th {\n",
       "        text-align: right;\n",
       "    }\n",
       "</style>\n",
       "<table border=\"1\" class=\"dataframe\">\n",
       "  <thead>\n",
       "    <tr style=\"text-align: right;\">\n",
       "      <th></th>\n",
       "      <th>vote_funny</th>\n",
       "      <th>vote_cool</th>\n",
       "      <th>vote_useful</th>\n",
       "    </tr>\n",
       "  </thead>\n",
       "  <tbody>\n",
       "    <tr>\n",
       "      <th>0</th>\n",
       "      <td>0</td>\n",
       "      <td>1</td>\n",
       "      <td>3</td>\n",
       "    </tr>\n",
       "    <tr>\n",
       "      <th>1</th>\n",
       "      <td>0</td>\n",
       "      <td>0</td>\n",
       "      <td>0</td>\n",
       "    </tr>\n",
       "    <tr>\n",
       "      <th>2</th>\n",
       "      <td>1</td>\n",
       "      <td>0</td>\n",
       "      <td>1</td>\n",
       "    </tr>\n",
       "    <tr>\n",
       "      <th>3</th>\n",
       "      <td>17</td>\n",
       "      <td>3</td>\n",
       "      <td>3</td>\n",
       "    </tr>\n",
       "    <tr>\n",
       "      <th>4</th>\n",
       "      <td>0</td>\n",
       "      <td>0</td>\n",
       "      <td>0</td>\n",
       "    </tr>\n",
       "  </tbody>\n",
       "</table>\n",
       "</div>"
      ],
      "text/plain": [
       "   vote_funny  vote_cool  vote_useful\n",
       "0           0          1            3\n",
       "1           0          0            0\n",
       "2           1          0            1\n",
       "3          17          3            3\n",
       "4           0          0            0"
      ]
     },
     "execution_count": 13,
     "metadata": {},
     "output_type": "execute_result"
    }
   ],
   "source": [
    "# 3 feeling comments for each review\n",
    "feedback = meta_train.loc[:,[\"vote_funny\", \"vote_cool\", \"vote_useful\"]]\n",
    "feedback.head()"
   ]
  },
  {
   "cell_type": "code",
   "execution_count": 14,
   "metadata": {
    "collapsed": false,
    "deletable": true,
    "editable": true
   },
   "outputs": [
    {
     "name": "stderr",
     "output_type": "stream",
     "text": [
      "D:\\Anaconda3\\lib\\site-packages\\sklearn\\base.py:318: UserWarning: Trying to unpickle estimator CountVectorizer from version 0.21.3 when using version 0.22.1. This might lead to breaking code or invalid results. Use at your own risk.\n",
      "  UserWarning)\n"
     ]
    },
    {
     "data": {
      "text/plain": [
       "[('dear', 10132),\n",
       " ('longman', 21962),\n",
       " ('eagle', 12231),\n",
       " ('ve', 39466),\n",
       " ('left', 21375),\n",
       " ('choice', 7379),\n",
       " ('ideas', 18760),\n",
       " ('menu', 23305),\n",
       " ('looks', 21983),\n",
       " ('reads', 29983),\n",
       " ('exceptionally', 13484),\n",
       " ('want', 40166),\n",
       " ('eat', 12292),\n",
       " ('multiple', 24410),\n",
       " ('times', 37462),\n",
       " ('just', 20403),\n",
       " ('consistent', 8676),\n",
       " ('thing', 37216),\n",
       " ('serve', 32884),\n",
       " ('overpriced', 26319)]"
      ]
     },
     "execution_count": 14,
     "metadata": {},
     "output_type": "execute_result"
    }
   ],
   "source": [
    "import pickle\n",
    "from itertools import islice\n",
    "\n",
    "# Store features and their corresponding values into a sparse matrix\n",
    "vocabulary = pickle.load(open(\"COMP30027_2020_assignment2_datasets/review_text_features_countvec//train_countvectorizer.pkl\",\"rb\"))\n",
    "vocabulary_dict = vocabulary.vocabulary_\n",
    "\n",
    "# Overview first 20 vocabularies in this dictionary, \n",
    "# where keys are vocabularies and values are indices\n",
    "list(islice(vocabulary_dict.items(), 20))"
   ]
  },
  {
   "cell_type": "code",
   "execution_count": 15,
   "metadata": {
    "collapsed": false,
    "deletable": true,
    "editable": true
   },
   "outputs": [
    {
     "data": {
      "text/plain": [
       "41648"
      ]
     },
     "execution_count": 15,
     "metadata": {},
     "output_type": "execute_result"
    }
   ],
   "source": [
    "# Size of features(number of vocabularies)\n",
    "len(vocabulary_dict)"
   ]
  },
  {
   "cell_type": "code",
   "execution_count": 16,
   "metadata": {
    "collapsed": false,
    "deletable": true,
    "editable": true
   },
   "outputs": [
    {
     "data": {
      "text/plain": [
       "CountVectorizer(analyzer='word', binary=False, decode_error='strict',\n",
       "                dtype=<class 'numpy.int64'>, encoding='utf-8', input='content',\n",
       "                lowercase=True, max_df=1.0, max_features=None, min_df=1,\n",
       "                ngram_range=(1, 1), preprocessor=None, stop_words='english',\n",
       "                strip_accents=None, token_pattern='(?u)\\\\b\\\\w\\\\w+\\\\b',\n",
       "                tokenizer=None, vocabulary=None)"
      ]
     },
     "execution_count": 16,
     "metadata": {},
     "output_type": "execute_result"
    }
   ],
   "source": [
    "vocabulary"
   ]
  },
  {
   "cell_type": "code",
   "execution_count": 17,
   "metadata": {
    "collapsed": true,
    "deletable": true,
    "editable": true
   },
   "outputs": [],
   "source": [
    "from scipy import sparse\n",
    "# Load train and test sparse matrix\n",
    "# These 2 sparse matrice store non-zero entries\n",
    "train_sparse = sparse.load_npz(\"COMP30027_2020_assignment2_datasets/review_text_features_countvec/review_text_train_vec.npz\")\n",
    "test_sparse = sparse.load_npz(\"COMP30027_2020_assignment2_datasets/review_text_features_countvec/review_text_test_vec.npz\")"
   ]
  },
  {
   "cell_type": "code",
   "execution_count": 18,
   "metadata": {
    "collapsed": false,
    "deletable": true,
    "editable": true
   },
   "outputs": [
    {
     "data": {
      "text/plain": [
       "<28068x41648 sparse matrix of type '<class 'numpy.int64'>'\n",
       "\twith 1465196 stored elements in Compressed Sparse Row format>"
      ]
     },
     "execution_count": 18,
     "metadata": {},
     "output_type": "execute_result"
    }
   ],
   "source": [
    "# Size of train sparse matrix(number of instance*number of features)\n",
    "train_sparse"
   ]
  },
  {
   "cell_type": "code",
   "execution_count": 19,
   "metadata": {
    "collapsed": false,
    "deletable": true,
    "editable": true
   },
   "outputs": [
    {
     "data": {
      "text/plain": [
       "<7018x41648 sparse matrix of type '<class 'numpy.int64'>'\n",
       "\twith 362189 stored elements in Compressed Sparse Row format>"
      ]
     },
     "execution_count": 19,
     "metadata": {},
     "output_type": "execute_result"
    }
   ],
   "source": [
    "# Size of test sparse matrix(number of instance*number of features)\n",
    "test_sparse"
   ]
  },
  {
   "cell_type": "code",
   "execution_count": 20,
   "metadata": {
    "collapsed": false,
    "deletable": true,
    "editable": true
   },
   "outputs": [
    {
     "name": "stdout",
     "output_type": "stream",
     "text": [
      "  (0, 360)\t1\n",
      "  (0, 1242)\t1\n",
      "  (0, 2221)\t1\n",
      "  (0, 2979)\t1\n",
      "  (0, 3890)\t1\n",
      "  (0, 5404)\t1\n",
      "  (0, 7379)\t1\n",
      "  (0, 8676)\t1\n",
      "  (0, 8879)\t1\n",
      "  (0, 9299)\t1\n",
      "  (0, 10082)\t1\n",
      "  (0, 10132)\t1\n",
      "  (0, 10754)\t1\n",
      "  (0, 11676)\t2\n",
      "  (0, 12231)\t1\n",
      "  (0, 12292)\t2\n",
      "  (0, 13484)\t1\n",
      "  (0, 13840)\t1\n",
      "  (0, 15400)\t1\n",
      "  (0, 15525)\t1\n",
      "  (0, 16076)\t1\n",
      "  (0, 16247)\t1\n",
      "  (0, 16421)\t1\n",
      "  (0, 16597)\t2\n",
      "  (0, 16813)\t1\n",
      "  :\t:\n",
      "  (28067, 31893)\t1\n",
      "  (28067, 32029)\t1\n",
      "  (28067, 32385)\t1\n",
      "  (28067, 32738)\t1\n",
      "  (28067, 32890)\t1\n",
      "  (28067, 33003)\t3\n",
      "  (28067, 33691)\t1\n",
      "  (28067, 34090)\t1\n",
      "  (28067, 34100)\t2\n",
      "  (28067, 34274)\t1\n",
      "  (28067, 34286)\t1\n",
      "  (28067, 36260)\t2\n",
      "  (28067, 37450)\t1\n",
      "  (28067, 37462)\t1\n",
      "  (28067, 37813)\t1\n",
      "  (28067, 38058)\t1\n",
      "  (28067, 39199)\t1\n",
      "  (28067, 39466)\t4\n",
      "  (28067, 39481)\t2\n",
      "  (28067, 39484)\t1\n",
      "  (28067, 39501)\t1\n",
      "  (28067, 39854)\t1\n",
      "  (28067, 40296)\t1\n",
      "  (28067, 41095)\t1\n",
      "  (28067, 41295)\t1\n"
     ]
    }
   ],
   "source": [
    "print(train_sparse)"
   ]
  },
  {
   "cell_type": "code",
   "execution_count": 21,
   "metadata": {
    "collapsed": false,
    "deletable": true,
    "editable": true
   },
   "outputs": [
    {
     "name": "stdout",
     "output_type": "stream",
     "text": [
      "  (0, 27)\t1\n",
      "  (0, 57)\t2\n",
      "  (0, 617)\t1\n",
      "  (0, 1267)\t1\n",
      "  (0, 1273)\t1\n",
      "  (0, 1293)\t1\n",
      "  (0, 1565)\t1\n",
      "  (0, 1681)\t1\n",
      "  (0, 1985)\t3\n",
      "  (0, 2393)\t2\n",
      "  (0, 2788)\t1\n",
      "  (0, 3664)\t1\n",
      "  (0, 3802)\t1\n",
      "  (0, 4136)\t1\n",
      "  (0, 4506)\t1\n",
      "  (0, 5025)\t1\n",
      "  (0, 5194)\t3\n",
      "  (0, 5224)\t1\n",
      "  (0, 5854)\t1\n",
      "  (0, 6419)\t1\n",
      "  (0, 6470)\t1\n",
      "  (0, 6706)\t1\n",
      "  (0, 6984)\t1\n",
      "  (0, 7051)\t1\n",
      "  (0, 7169)\t1\n",
      "  :\t:\n",
      "  (7017, 22472)\t1\n",
      "  (7017, 23081)\t1\n",
      "  (7017, 24203)\t1\n",
      "  (7017, 24392)\t1\n",
      "  (7017, 24483)\t1\n",
      "  (7017, 25476)\t1\n",
      "  (7017, 26313)\t1\n",
      "  (7017, 27296)\t1\n",
      "  (7017, 27399)\t1\n",
      "  (7017, 27901)\t2\n",
      "  (7017, 28492)\t1\n",
      "  (7017, 28740)\t1\n",
      "  (7017, 29613)\t1\n",
      "  (7017, 30162)\t1\n",
      "  (7017, 32223)\t1\n",
      "  (7017, 33631)\t1\n",
      "  (7017, 33634)\t1\n",
      "  (7017, 33954)\t1\n",
      "  (7017, 34005)\t1\n",
      "  (7017, 34673)\t1\n",
      "  (7017, 35433)\t1\n",
      "  (7017, 36385)\t1\n",
      "  (7017, 38436)\t1\n",
      "  (7017, 40830)\t1\n",
      "  (7017, 40932)\t1\n"
     ]
    }
   ],
   "source": [
    "print(test_sparse)"
   ]
  },
  {
   "cell_type": "code",
   "execution_count": 22,
   "metadata": {
    "collapsed": false,
    "deletable": true,
    "editable": true
   },
   "outputs": [
    {
     "data": {
      "text/plain": [
       "'years'"
      ]
     },
     "execution_count": 22,
     "metadata": {},
     "output_type": "execute_result"
    }
   ],
   "source": [
    "# Index a vocabulary in vocabulary dictionary via train sparse matrix (Here we index 41295th feature)\n",
    "list(vocabulary_dict.keys())[list(vocabulary_dict.values()).index(41295)]"
   ]
  },
  {
   "cell_type": "code",
   "execution_count": 23,
   "metadata": {
    "collapsed": false,
    "deletable": true,
    "editable": true
   },
   "outputs": [
    {
     "name": "stdout",
     "output_type": "stream",
     "text": [
      "I love The Chicago Diner. I first came here about five years ago, and was especially impressed by a vegan mango shake, way before my vegetarian/veganish days. I've been coming ever since, having never been disapointed. The food is always great, service is friendly and likable, atmosphere is social and totally all-american, old school diner. The sweet potato quesillda, dagwood sandwich, mac n cheese, sweet potato fries, kale salad, karma burger, black bean burger, chicken cesar wrap, and beer/drink selection will knock your socks off. The Smores shake is the best damn milkshake/ smoothie/ice cream treat I've ever had in my damn life. Fathoming that it is vegan is almost bizarre, and hella good. I've ordered it the last 4 times I've been there (in the past 2 months) and the last time I upgraded to the larger size. Anyways, pay Chicago Diner a visit. Plz get a smores shake.\n",
      "\n"
     ]
    }
   ],
   "source": [
    "# Index a review where \"years\" exist (Here we index 28067th instance)\n",
    "print(text_train.iloc[28067,0])"
   ]
  },
  {
   "cell_type": "code",
   "execution_count": 24,
   "metadata": {
    "collapsed": false,
    "deletable": true,
    "editable": true
   },
   "outputs": [
    {
     "data": {
      "text/plain": [
       "True"
      ]
     },
     "execution_count": 24,
     "metadata": {},
     "output_type": "execute_result"
    }
   ],
   "source": [
    "# Check whether indexed vocabulary in related review\n",
    "# We know in sparse matrix, (i,j) k, refering ith instance, jth feature that the feature appeared k times\n",
    "list(vocabulary_dict.keys())[list(vocabulary_dict.values()).index(41295)] in text_train.iloc[28067,0]"
   ]
  },
  {
   "cell_type": "markdown",
   "metadata": {
    "collapsed": true,
    "deletable": true,
    "editable": true
   },
   "source": [
    "## Doc2Vec"
   ]
  },
  {
   "cell_type": "code",
   "execution_count": 25,
   "metadata": {
    "collapsed": true,
    "deletable": true,
    "editable": true
   },
   "outputs": [],
   "source": [
    "# From this article below, we know doc2vec is comprised of a series of word2vec and a paragraph matrix, where it can analysis the whole document by considering gramma\n",
    "# Distance between 2 feature vectors refers to similarity between 2 words\n",
    "# https://medium.com/wisio/a-gentle-introduction-to-doc2vec-db3e8c0cce5e"
   ]
  },
  {
   "cell_type": "code",
   "execution_count": 26,
   "metadata": {
    "collapsed": true,
    "deletable": true,
    "editable": true
   },
   "outputs": [],
   "source": [
    "train_doc2vec50 = pd.read_csv(\"COMP30027_2020_assignment2_datasets/review_text_features_doc2vec50/review_text_train_doc2vec50.csv\",header=None)\n",
    "train_doc2vec100 = pd.read_csv(\"COMP30027_2020_assignment2_datasets/review_text_features_doc2vec100/review_text_train_doc2vec100.csv\",header=None)\n",
    "train_doc2vec200 = pd.read_csv(\"COMP30027_2020_assignment2_datasets/review_text_features_doc2vec200/review_text_train_doc2vec200.csv\",header=None)"
   ]
  },
  {
   "cell_type": "code",
   "execution_count": 27,
   "metadata": {
    "collapsed": false,
    "deletable": true,
    "editable": true
   },
   "outputs": [
    {
     "data": {
      "text/html": [
       "<div>\n",
       "<style scoped>\n",
       "    .dataframe tbody tr th:only-of-type {\n",
       "        vertical-align: middle;\n",
       "    }\n",
       "\n",
       "    .dataframe tbody tr th {\n",
       "        vertical-align: top;\n",
       "    }\n",
       "\n",
       "    .dataframe thead th {\n",
       "        text-align: right;\n",
       "    }\n",
       "</style>\n",
       "<table border=\"1\" class=\"dataframe\">\n",
       "  <thead>\n",
       "    <tr style=\"text-align: right;\">\n",
       "      <th></th>\n",
       "      <th>0</th>\n",
       "      <th>1</th>\n",
       "      <th>2</th>\n",
       "      <th>3</th>\n",
       "      <th>4</th>\n",
       "      <th>5</th>\n",
       "      <th>6</th>\n",
       "      <th>7</th>\n",
       "      <th>8</th>\n",
       "      <th>9</th>\n",
       "      <th>...</th>\n",
       "      <th>40</th>\n",
       "      <th>41</th>\n",
       "      <th>42</th>\n",
       "      <th>43</th>\n",
       "      <th>44</th>\n",
       "      <th>45</th>\n",
       "      <th>46</th>\n",
       "      <th>47</th>\n",
       "      <th>48</th>\n",
       "      <th>49</th>\n",
       "    </tr>\n",
       "  </thead>\n",
       "  <tbody>\n",
       "    <tr>\n",
       "      <th>0</th>\n",
       "      <td>0.878508</td>\n",
       "      <td>-0.921865</td>\n",
       "      <td>1.041951</td>\n",
       "      <td>-0.442659</td>\n",
       "      <td>0.314465</td>\n",
       "      <td>0.516447</td>\n",
       "      <td>-0.483630</td>\n",
       "      <td>1.740442</td>\n",
       "      <td>1.186326</td>\n",
       "      <td>0.975157</td>\n",
       "      <td>...</td>\n",
       "      <td>0.034335</td>\n",
       "      <td>1.886912</td>\n",
       "      <td>-0.810600</td>\n",
       "      <td>-1.427045</td>\n",
       "      <td>0.671864</td>\n",
       "      <td>-1.269260</td>\n",
       "      <td>0.366261</td>\n",
       "      <td>-1.461988</td>\n",
       "      <td>-1.354277</td>\n",
       "      <td>0.846137</td>\n",
       "    </tr>\n",
       "    <tr>\n",
       "      <th>1</th>\n",
       "      <td>0.702511</td>\n",
       "      <td>-0.307338</td>\n",
       "      <td>1.182641</td>\n",
       "      <td>-0.647916</td>\n",
       "      <td>0.608985</td>\n",
       "      <td>0.006024</td>\n",
       "      <td>-0.420182</td>\n",
       "      <td>0.645829</td>\n",
       "      <td>-0.234737</td>\n",
       "      <td>2.084816</td>\n",
       "      <td>...</td>\n",
       "      <td>0.555065</td>\n",
       "      <td>1.557805</td>\n",
       "      <td>1.038871</td>\n",
       "      <td>0.739345</td>\n",
       "      <td>-2.734058</td>\n",
       "      <td>-0.994866</td>\n",
       "      <td>-0.899577</td>\n",
       "      <td>-0.291003</td>\n",
       "      <td>-0.137514</td>\n",
       "      <td>-0.541647</td>\n",
       "    </tr>\n",
       "    <tr>\n",
       "      <th>2</th>\n",
       "      <td>0.163672</td>\n",
       "      <td>0.493242</td>\n",
       "      <td>1.130909</td>\n",
       "      <td>-1.848056</td>\n",
       "      <td>1.883512</td>\n",
       "      <td>-2.317537</td>\n",
       "      <td>2.192569</td>\n",
       "      <td>0.942131</td>\n",
       "      <td>1.660533</td>\n",
       "      <td>-2.046016</td>\n",
       "      <td>...</td>\n",
       "      <td>0.314601</td>\n",
       "      <td>-0.268859</td>\n",
       "      <td>-0.346581</td>\n",
       "      <td>-0.477067</td>\n",
       "      <td>-0.843311</td>\n",
       "      <td>-0.235060</td>\n",
       "      <td>-3.267487</td>\n",
       "      <td>-0.080276</td>\n",
       "      <td>-2.365990</td>\n",
       "      <td>-0.088761</td>\n",
       "    </tr>\n",
       "    <tr>\n",
       "      <th>3</th>\n",
       "      <td>-1.464438</td>\n",
       "      <td>0.962851</td>\n",
       "      <td>-0.362837</td>\n",
       "      <td>0.139058</td>\n",
       "      <td>0.371398</td>\n",
       "      <td>-0.477407</td>\n",
       "      <td>0.075963</td>\n",
       "      <td>0.517986</td>\n",
       "      <td>-0.484253</td>\n",
       "      <td>1.322117</td>\n",
       "      <td>...</td>\n",
       "      <td>-0.499065</td>\n",
       "      <td>0.307102</td>\n",
       "      <td>-0.676431</td>\n",
       "      <td>0.666551</td>\n",
       "      <td>0.454338</td>\n",
       "      <td>0.735081</td>\n",
       "      <td>-0.456556</td>\n",
       "      <td>-1.040474</td>\n",
       "      <td>-1.095729</td>\n",
       "      <td>-0.418161</td>\n",
       "    </tr>\n",
       "    <tr>\n",
       "      <th>4</th>\n",
       "      <td>-0.652090</td>\n",
       "      <td>0.351715</td>\n",
       "      <td>-1.870239</td>\n",
       "      <td>0.047474</td>\n",
       "      <td>2.558941</td>\n",
       "      <td>-0.110524</td>\n",
       "      <td>0.068561</td>\n",
       "      <td>2.161655</td>\n",
       "      <td>-1.361464</td>\n",
       "      <td>-0.274840</td>\n",
       "      <td>...</td>\n",
       "      <td>-0.276149</td>\n",
       "      <td>1.285546</td>\n",
       "      <td>0.629599</td>\n",
       "      <td>1.608605</td>\n",
       "      <td>-0.397988</td>\n",
       "      <td>-2.350459</td>\n",
       "      <td>-0.925956</td>\n",
       "      <td>0.500559</td>\n",
       "      <td>1.315240</td>\n",
       "      <td>0.265349</td>\n",
       "    </tr>\n",
       "  </tbody>\n",
       "</table>\n",
       "<p>5 rows × 50 columns</p>\n",
       "</div>"
      ],
      "text/plain": [
       "         0         1         2         3         4         5         6   \\\n",
       "0  0.878508 -0.921865  1.041951 -0.442659  0.314465  0.516447 -0.483630   \n",
       "1  0.702511 -0.307338  1.182641 -0.647916  0.608985  0.006024 -0.420182   \n",
       "2  0.163672  0.493242  1.130909 -1.848056  1.883512 -2.317537  2.192569   \n",
       "3 -1.464438  0.962851 -0.362837  0.139058  0.371398 -0.477407  0.075963   \n",
       "4 -0.652090  0.351715 -1.870239  0.047474  2.558941 -0.110524  0.068561   \n",
       "\n",
       "         7         8         9   ...        40        41        42        43  \\\n",
       "0  1.740442  1.186326  0.975157  ...  0.034335  1.886912 -0.810600 -1.427045   \n",
       "1  0.645829 -0.234737  2.084816  ...  0.555065  1.557805  1.038871  0.739345   \n",
       "2  0.942131  1.660533 -2.046016  ...  0.314601 -0.268859 -0.346581 -0.477067   \n",
       "3  0.517986 -0.484253  1.322117  ... -0.499065  0.307102 -0.676431  0.666551   \n",
       "4  2.161655 -1.361464 -0.274840  ... -0.276149  1.285546  0.629599  1.608605   \n",
       "\n",
       "         44        45        46        47        48        49  \n",
       "0  0.671864 -1.269260  0.366261 -1.461988 -1.354277  0.846137  \n",
       "1 -2.734058 -0.994866 -0.899577 -0.291003 -0.137514 -0.541647  \n",
       "2 -0.843311 -0.235060 -3.267487 -0.080276 -2.365990 -0.088761  \n",
       "3  0.454338  0.735081 -0.456556 -1.040474 -1.095729 -0.418161  \n",
       "4 -0.397988 -2.350459 -0.925956  0.500559  1.315240  0.265349  \n",
       "\n",
       "[5 rows x 50 columns]"
      ]
     },
     "execution_count": 27,
     "metadata": {},
     "output_type": "execute_result"
    }
   ],
   "source": [
    "train_doc2vec50.head()"
   ]
  },
  {
   "cell_type": "code",
   "execution_count": 28,
   "metadata": {
    "collapsed": false,
    "deletable": true,
    "editable": true
   },
   "outputs": [
    {
     "data": {
      "text/html": [
       "<div>\n",
       "<style scoped>\n",
       "    .dataframe tbody tr th:only-of-type {\n",
       "        vertical-align: middle;\n",
       "    }\n",
       "\n",
       "    .dataframe tbody tr th {\n",
       "        vertical-align: top;\n",
       "    }\n",
       "\n",
       "    .dataframe thead th {\n",
       "        text-align: right;\n",
       "    }\n",
       "</style>\n",
       "<table border=\"1\" class=\"dataframe\">\n",
       "  <thead>\n",
       "    <tr style=\"text-align: right;\">\n",
       "      <th></th>\n",
       "      <th>0</th>\n",
       "      <th>1</th>\n",
       "      <th>2</th>\n",
       "      <th>3</th>\n",
       "      <th>4</th>\n",
       "      <th>5</th>\n",
       "      <th>6</th>\n",
       "      <th>7</th>\n",
       "      <th>8</th>\n",
       "      <th>9</th>\n",
       "      <th>...</th>\n",
       "      <th>90</th>\n",
       "      <th>91</th>\n",
       "      <th>92</th>\n",
       "      <th>93</th>\n",
       "      <th>94</th>\n",
       "      <th>95</th>\n",
       "      <th>96</th>\n",
       "      <th>97</th>\n",
       "      <th>98</th>\n",
       "      <th>99</th>\n",
       "    </tr>\n",
       "  </thead>\n",
       "  <tbody>\n",
       "    <tr>\n",
       "      <th>0</th>\n",
       "      <td>-0.487088</td>\n",
       "      <td>-0.490880</td>\n",
       "      <td>0.622557</td>\n",
       "      <td>0.564956</td>\n",
       "      <td>0.985726</td>\n",
       "      <td>-0.193425</td>\n",
       "      <td>0.445663</td>\n",
       "      <td>0.880521</td>\n",
       "      <td>1.597479</td>\n",
       "      <td>0.172676</td>\n",
       "      <td>...</td>\n",
       "      <td>-0.939366</td>\n",
       "      <td>1.133505</td>\n",
       "      <td>1.451261</td>\n",
       "      <td>-1.696411</td>\n",
       "      <td>0.756580</td>\n",
       "      <td>-0.390089</td>\n",
       "      <td>0.307579</td>\n",
       "      <td>0.588118</td>\n",
       "      <td>-0.564321</td>\n",
       "      <td>-0.825889</td>\n",
       "    </tr>\n",
       "    <tr>\n",
       "      <th>1</th>\n",
       "      <td>0.217373</td>\n",
       "      <td>-1.342246</td>\n",
       "      <td>0.914213</td>\n",
       "      <td>-0.663769</td>\n",
       "      <td>0.996792</td>\n",
       "      <td>0.954216</td>\n",
       "      <td>1.204830</td>\n",
       "      <td>2.671392</td>\n",
       "      <td>-0.776219</td>\n",
       "      <td>1.059881</td>\n",
       "      <td>...</td>\n",
       "      <td>0.051721</td>\n",
       "      <td>1.551871</td>\n",
       "      <td>-0.761823</td>\n",
       "      <td>-2.249382</td>\n",
       "      <td>1.390641</td>\n",
       "      <td>-2.139570</td>\n",
       "      <td>-0.895299</td>\n",
       "      <td>-0.013435</td>\n",
       "      <td>0.829394</td>\n",
       "      <td>1.634018</td>\n",
       "    </tr>\n",
       "    <tr>\n",
       "      <th>2</th>\n",
       "      <td>-0.368785</td>\n",
       "      <td>1.399746</td>\n",
       "      <td>1.218323</td>\n",
       "      <td>-1.092754</td>\n",
       "      <td>-0.413296</td>\n",
       "      <td>-2.532551</td>\n",
       "      <td>2.027926</td>\n",
       "      <td>1.029707</td>\n",
       "      <td>0.521343</td>\n",
       "      <td>-1.325460</td>\n",
       "      <td>...</td>\n",
       "      <td>-0.215156</td>\n",
       "      <td>2.349727</td>\n",
       "      <td>0.882318</td>\n",
       "      <td>0.001416</td>\n",
       "      <td>2.090532</td>\n",
       "      <td>-0.640157</td>\n",
       "      <td>-0.328469</td>\n",
       "      <td>-0.234221</td>\n",
       "      <td>1.046274</td>\n",
       "      <td>2.834717</td>\n",
       "    </tr>\n",
       "    <tr>\n",
       "      <th>3</th>\n",
       "      <td>-0.888139</td>\n",
       "      <td>0.609089</td>\n",
       "      <td>-0.611342</td>\n",
       "      <td>-0.083884</td>\n",
       "      <td>1.461818</td>\n",
       "      <td>-0.269643</td>\n",
       "      <td>-0.024533</td>\n",
       "      <td>1.357602</td>\n",
       "      <td>-1.179040</td>\n",
       "      <td>1.028520</td>\n",
       "      <td>...</td>\n",
       "      <td>0.428982</td>\n",
       "      <td>1.617167</td>\n",
       "      <td>-0.119217</td>\n",
       "      <td>-0.254958</td>\n",
       "      <td>-0.249192</td>\n",
       "      <td>0.213577</td>\n",
       "      <td>0.171903</td>\n",
       "      <td>-0.303960</td>\n",
       "      <td>1.007568</td>\n",
       "      <td>0.456165</td>\n",
       "    </tr>\n",
       "    <tr>\n",
       "      <th>4</th>\n",
       "      <td>-0.407051</td>\n",
       "      <td>1.285224</td>\n",
       "      <td>-0.893475</td>\n",
       "      <td>-0.191914</td>\n",
       "      <td>1.627117</td>\n",
       "      <td>-1.431683</td>\n",
       "      <td>-0.020274</td>\n",
       "      <td>-0.642326</td>\n",
       "      <td>-1.487927</td>\n",
       "      <td>-0.849512</td>\n",
       "      <td>...</td>\n",
       "      <td>0.089397</td>\n",
       "      <td>0.414546</td>\n",
       "      <td>0.674016</td>\n",
       "      <td>1.258880</td>\n",
       "      <td>1.473486</td>\n",
       "      <td>-0.172282</td>\n",
       "      <td>-0.541054</td>\n",
       "      <td>-0.345467</td>\n",
       "      <td>0.752993</td>\n",
       "      <td>1.693249</td>\n",
       "    </tr>\n",
       "  </tbody>\n",
       "</table>\n",
       "<p>5 rows × 100 columns</p>\n",
       "</div>"
      ],
      "text/plain": [
       "         0         1         2         3         4         5         6   \\\n",
       "0 -0.487088 -0.490880  0.622557  0.564956  0.985726 -0.193425  0.445663   \n",
       "1  0.217373 -1.342246  0.914213 -0.663769  0.996792  0.954216  1.204830   \n",
       "2 -0.368785  1.399746  1.218323 -1.092754 -0.413296 -2.532551  2.027926   \n",
       "3 -0.888139  0.609089 -0.611342 -0.083884  1.461818 -0.269643 -0.024533   \n",
       "4 -0.407051  1.285224 -0.893475 -0.191914  1.627117 -1.431683 -0.020274   \n",
       "\n",
       "         7         8         9   ...        90        91        92        93  \\\n",
       "0  0.880521  1.597479  0.172676  ... -0.939366  1.133505  1.451261 -1.696411   \n",
       "1  2.671392 -0.776219  1.059881  ...  0.051721  1.551871 -0.761823 -2.249382   \n",
       "2  1.029707  0.521343 -1.325460  ... -0.215156  2.349727  0.882318  0.001416   \n",
       "3  1.357602 -1.179040  1.028520  ...  0.428982  1.617167 -0.119217 -0.254958   \n",
       "4 -0.642326 -1.487927 -0.849512  ...  0.089397  0.414546  0.674016  1.258880   \n",
       "\n",
       "         94        95        96        97        98        99  \n",
       "0  0.756580 -0.390089  0.307579  0.588118 -0.564321 -0.825889  \n",
       "1  1.390641 -2.139570 -0.895299 -0.013435  0.829394  1.634018  \n",
       "2  2.090532 -0.640157 -0.328469 -0.234221  1.046274  2.834717  \n",
       "3 -0.249192  0.213577  0.171903 -0.303960  1.007568  0.456165  \n",
       "4  1.473486 -0.172282 -0.541054 -0.345467  0.752993  1.693249  \n",
       "\n",
       "[5 rows x 100 columns]"
      ]
     },
     "execution_count": 28,
     "metadata": {},
     "output_type": "execute_result"
    }
   ],
   "source": [
    "train_doc2vec100.head()"
   ]
  },
  {
   "cell_type": "code",
   "execution_count": 29,
   "metadata": {
    "collapsed": false,
    "deletable": true,
    "editable": true
   },
   "outputs": [
    {
     "data": {
      "text/html": [
       "<div>\n",
       "<style scoped>\n",
       "    .dataframe tbody tr th:only-of-type {\n",
       "        vertical-align: middle;\n",
       "    }\n",
       "\n",
       "    .dataframe tbody tr th {\n",
       "        vertical-align: top;\n",
       "    }\n",
       "\n",
       "    .dataframe thead th {\n",
       "        text-align: right;\n",
       "    }\n",
       "</style>\n",
       "<table border=\"1\" class=\"dataframe\">\n",
       "  <thead>\n",
       "    <tr style=\"text-align: right;\">\n",
       "      <th></th>\n",
       "      <th>0</th>\n",
       "      <th>1</th>\n",
       "      <th>2</th>\n",
       "      <th>3</th>\n",
       "      <th>4</th>\n",
       "      <th>5</th>\n",
       "      <th>6</th>\n",
       "      <th>7</th>\n",
       "      <th>8</th>\n",
       "      <th>9</th>\n",
       "      <th>...</th>\n",
       "      <th>190</th>\n",
       "      <th>191</th>\n",
       "      <th>192</th>\n",
       "      <th>193</th>\n",
       "      <th>194</th>\n",
       "      <th>195</th>\n",
       "      <th>196</th>\n",
       "      <th>197</th>\n",
       "      <th>198</th>\n",
       "      <th>199</th>\n",
       "    </tr>\n",
       "  </thead>\n",
       "  <tbody>\n",
       "    <tr>\n",
       "      <th>0</th>\n",
       "      <td>1.353526</td>\n",
       "      <td>2.418925</td>\n",
       "      <td>0.335288</td>\n",
       "      <td>-0.666198</td>\n",
       "      <td>0.197576</td>\n",
       "      <td>-1.213784</td>\n",
       "      <td>0.214675</td>\n",
       "      <td>-0.520557</td>\n",
       "      <td>0.097036</td>\n",
       "      <td>-0.038031</td>\n",
       "      <td>...</td>\n",
       "      <td>0.465372</td>\n",
       "      <td>0.426368</td>\n",
       "      <td>0.508228</td>\n",
       "      <td>0.107601</td>\n",
       "      <td>0.165913</td>\n",
       "      <td>1.058742</td>\n",
       "      <td>0.064430</td>\n",
       "      <td>0.743298</td>\n",
       "      <td>0.372714</td>\n",
       "      <td>0.803744</td>\n",
       "    </tr>\n",
       "    <tr>\n",
       "      <th>1</th>\n",
       "      <td>-0.293620</td>\n",
       "      <td>0.709073</td>\n",
       "      <td>0.221844</td>\n",
       "      <td>-0.614094</td>\n",
       "      <td>1.673234</td>\n",
       "      <td>-0.640765</td>\n",
       "      <td>0.611567</td>\n",
       "      <td>-0.119423</td>\n",
       "      <td>0.849617</td>\n",
       "      <td>0.971194</td>\n",
       "      <td>...</td>\n",
       "      <td>0.662623</td>\n",
       "      <td>0.945220</td>\n",
       "      <td>0.794361</td>\n",
       "      <td>-0.551319</td>\n",
       "      <td>-0.877798</td>\n",
       "      <td>-0.093738</td>\n",
       "      <td>0.686752</td>\n",
       "      <td>-0.592382</td>\n",
       "      <td>0.910172</td>\n",
       "      <td>-0.395364</td>\n",
       "    </tr>\n",
       "    <tr>\n",
       "      <th>2</th>\n",
       "      <td>1.680744</td>\n",
       "      <td>-0.635781</td>\n",
       "      <td>1.371017</td>\n",
       "      <td>0.369943</td>\n",
       "      <td>-0.727898</td>\n",
       "      <td>-1.339444</td>\n",
       "      <td>0.743664</td>\n",
       "      <td>-1.149264</td>\n",
       "      <td>1.029362</td>\n",
       "      <td>-1.154225</td>\n",
       "      <td>...</td>\n",
       "      <td>0.707809</td>\n",
       "      <td>-0.082700</td>\n",
       "      <td>-1.435723</td>\n",
       "      <td>1.454183</td>\n",
       "      <td>-0.066971</td>\n",
       "      <td>0.344670</td>\n",
       "      <td>0.369366</td>\n",
       "      <td>1.054672</td>\n",
       "      <td>0.740653</td>\n",
       "      <td>-0.823508</td>\n",
       "    </tr>\n",
       "    <tr>\n",
       "      <th>3</th>\n",
       "      <td>0.557154</td>\n",
       "      <td>0.705414</td>\n",
       "      <td>-0.206977</td>\n",
       "      <td>-0.382588</td>\n",
       "      <td>0.229065</td>\n",
       "      <td>-0.628965</td>\n",
       "      <td>0.083126</td>\n",
       "      <td>0.304578</td>\n",
       "      <td>0.403133</td>\n",
       "      <td>0.732616</td>\n",
       "      <td>...</td>\n",
       "      <td>-0.822946</td>\n",
       "      <td>-0.239719</td>\n",
       "      <td>-1.305674</td>\n",
       "      <td>0.253280</td>\n",
       "      <td>-0.648908</td>\n",
       "      <td>-0.028636</td>\n",
       "      <td>0.841049</td>\n",
       "      <td>-0.223571</td>\n",
       "      <td>1.163248</td>\n",
       "      <td>-0.937308</td>\n",
       "    </tr>\n",
       "    <tr>\n",
       "      <th>4</th>\n",
       "      <td>-0.148433</td>\n",
       "      <td>1.469513</td>\n",
       "      <td>0.792777</td>\n",
       "      <td>1.049407</td>\n",
       "      <td>-1.582647</td>\n",
       "      <td>-0.608933</td>\n",
       "      <td>-0.005922</td>\n",
       "      <td>-0.437743</td>\n",
       "      <td>-1.074558</td>\n",
       "      <td>-0.494526</td>\n",
       "      <td>...</td>\n",
       "      <td>-0.398168</td>\n",
       "      <td>0.623864</td>\n",
       "      <td>-0.798220</td>\n",
       "      <td>1.085826</td>\n",
       "      <td>0.292751</td>\n",
       "      <td>0.558448</td>\n",
       "      <td>1.211808</td>\n",
       "      <td>-0.993903</td>\n",
       "      <td>1.573769</td>\n",
       "      <td>0.339754</td>\n",
       "    </tr>\n",
       "  </tbody>\n",
       "</table>\n",
       "<p>5 rows × 200 columns</p>\n",
       "</div>"
      ],
      "text/plain": [
       "        0         1         2         3         4         5         6    \\\n",
       "0  1.353526  2.418925  0.335288 -0.666198  0.197576 -1.213784  0.214675   \n",
       "1 -0.293620  0.709073  0.221844 -0.614094  1.673234 -0.640765  0.611567   \n",
       "2  1.680744 -0.635781  1.371017  0.369943 -0.727898 -1.339444  0.743664   \n",
       "3  0.557154  0.705414 -0.206977 -0.382588  0.229065 -0.628965  0.083126   \n",
       "4 -0.148433  1.469513  0.792777  1.049407 -1.582647 -0.608933 -0.005922   \n",
       "\n",
       "        7         8         9    ...       190       191       192       193  \\\n",
       "0 -0.520557  0.097036 -0.038031  ...  0.465372  0.426368  0.508228  0.107601   \n",
       "1 -0.119423  0.849617  0.971194  ...  0.662623  0.945220  0.794361 -0.551319   \n",
       "2 -1.149264  1.029362 -1.154225  ...  0.707809 -0.082700 -1.435723  1.454183   \n",
       "3  0.304578  0.403133  0.732616  ... -0.822946 -0.239719 -1.305674  0.253280   \n",
       "4 -0.437743 -1.074558 -0.494526  ... -0.398168  0.623864 -0.798220  1.085826   \n",
       "\n",
       "        194       195       196       197       198       199  \n",
       "0  0.165913  1.058742  0.064430  0.743298  0.372714  0.803744  \n",
       "1 -0.877798 -0.093738  0.686752 -0.592382  0.910172 -0.395364  \n",
       "2 -0.066971  0.344670  0.369366  1.054672  0.740653 -0.823508  \n",
       "3 -0.648908 -0.028636  0.841049 -0.223571  1.163248 -0.937308  \n",
       "4  0.292751  0.558448  1.211808 -0.993903  1.573769  0.339754  \n",
       "\n",
       "[5 rows x 200 columns]"
      ]
     },
     "execution_count": 29,
     "metadata": {},
     "output_type": "execute_result"
    }
   ],
   "source": [
    "train_doc2vec200.head()"
   ]
  },
  {
   "cell_type": "code",
   "execution_count": 30,
   "metadata": {
    "collapsed": false,
    "deletable": true,
    "editable": true
   },
   "outputs": [
    {
     "data": {
      "text/plain": [
       "((28068, 50), (28068, 100), (28068, 200))"
      ]
     },
     "execution_count": 30,
     "metadata": {},
     "output_type": "execute_result"
    }
   ],
   "source": [
    "train_doc2vec50.shape, train_doc2vec100.shape, train_doc2vec200.shape"
   ]
  },
  {
   "cell_type": "markdown",
   "metadata": {
    "deletable": true,
    "editable": true
   },
   "source": [
    "## Preprocessing"
   ]
  },
  {
   "cell_type": "code",
   "execution_count": 31,
   "metadata": {
    "collapsed": true,
    "deletable": true,
    "editable": true
   },
   "outputs": [],
   "source": [
    "# Preprocessing datasets via sklearn, spliting data into train and development\n",
    "# Difference between train, development and test data:\n",
    "#                 Known to user          Known to learner   \n",
    "# Train              True                    True\n",
    "# Development        True                    False\n",
    "# Test               False                   False\n",
    "from sklearn.model_selection import train_test_split\n",
    "sparse_train, sparse_devel, y_train, y_devel = train_test_split(train_sparse,rating,test_size=0.3,random_state=42)\n",
    "doc50_train, doc50_devel, doc50_y_train, doc50_y_devel =  train_test_split(train_doc2vec50,rating,test_size=0.3,random_state=42)\n",
    "doc100_train, doc100_devel = train_test_split(train_doc2vec100,test_size=0.3,random_state=42)\n",
    "doc200_train, doc200_devel = train_test_split(train_doc2vec200,test_size=0.3,random_state=42)"
   ]
  },
  {
   "cell_type": "code",
   "execution_count": 32,
   "metadata": {
    "collapsed": false,
    "deletable": true,
    "editable": true
   },
   "outputs": [
    {
     "data": {
      "text/plain": [
       "19647"
      ]
     },
     "execution_count": 32,
     "metadata": {},
     "output_type": "execute_result"
    }
   ],
   "source": [
    "sum(y_train.index==doc50_y_train.index)"
   ]
  },
  {
   "cell_type": "code",
   "execution_count": 33,
   "metadata": {
    "collapsed": false,
    "deletable": true,
    "editable": true
   },
   "outputs": [
    {
     "data": {
      "text/plain": [
       "19647"
      ]
     },
     "execution_count": 33,
     "metadata": {},
     "output_type": "execute_result"
    }
   ],
   "source": [
    "y_train.shape[0]"
   ]
  },
  {
   "cell_type": "markdown",
   "metadata": {
    "deletable": true,
    "editable": true
   },
   "source": [
    "## Choose some baseline models\n",
    "#### The reason we choose Naive Bayes is that they are easily implemented\n",
    "#### Documentation https://scikit-learn.org/stable/modules/naive_bayes.html"
   ]
  },
  {
   "cell_type": "code",
   "execution_count": 34,
   "metadata": {
    "collapsed": true,
    "deletable": true,
    "editable": true
   },
   "outputs": [],
   "source": [
    "from sklearn.naive_bayes import MultinomialNB as MNB, GaussianNB as GNB, BernoulliNB as BNB, ComplementNB as CNB"
   ]
  },
  {
   "cell_type": "code",
   "execution_count": 35,
   "metadata": {
    "collapsed": false,
    "deletable": true,
    "editable": true
   },
   "outputs": [
    {
     "data": {
      "text/plain": [
       "(0.7948287270321168, 0.7402921268257927)"
      ]
     },
     "execution_count": 35,
     "metadata": {},
     "output_type": "execute_result"
    }
   ],
   "source": [
    "# https://datascience.stackexchange.com/questions/27624/difference-between-bernoulli-and-multinomial-naive-bayes\n",
    "# According to this website, BernoulliNB focuses on a single keyword\n",
    "# When applying short document, BernoulliNB might have a better performance\n",
    "# Our BernoulliNB does not perform well because we used word count vectors rather word occurrence vectors\n",
    "\n",
    "bnb = BNB().fit(sparse_train,y_train)\n",
    "bnb.score(sparse_train,y_train), bnb.score(sparse_devel,y_devel)"
   ]
  },
  {
   "cell_type": "code",
   "execution_count": 36,
   "metadata": {
    "collapsed": false,
    "deletable": true,
    "editable": true
   },
   "outputs": [
    {
     "data": {
      "text/plain": [
       "(0.9038021071919377, 0.8389739935874599)"
      ]
     },
     "execution_count": 36,
     "metadata": {},
     "output_type": "execute_result"
    }
   ],
   "source": [
    "# https://scikit-learn.org/stable/modules/generated/sklearn.naive_bayes.BernoulliNB.html\n",
    "# According to the documentation, MultinomialNB is designed for word occurrence while BernoulliNB works with binaries,\n",
    "# but it also worked well with tf-idf in practice\n",
    "# This is one of 2 classic NB used in classification, that we could use these scores as baselines\n",
    "\n",
    "mnb = MNB().fit(sparse_train,y_train)\n",
    "mnb.score(sparse_train,y_train), mnb.score(sparse_devel,y_devel)"
   ]
  },
  {
   "cell_type": "code",
   "execution_count": 37,
   "metadata": {
    "collapsed": false,
    "deletable": true,
    "editable": true
   },
   "outputs": [
    {
     "data": {
      "text/plain": [
       "(0.7250470809792844, 0.7204607528797055)"
      ]
     },
     "execution_count": 37,
     "metadata": {},
     "output_type": "execute_result"
    }
   ],
   "source": [
    "# GaussianNB requires continuous data where it follows a normal distribution\n",
    "# This NB does not work well even if our data is continuous\n",
    "\n",
    "gnb = GNB().fit(doc50_train,y_train)\n",
    "gnb.score(doc50_train,y_train), gnb.score(doc50_devel,y_devel)"
   ]
  },
  {
   "cell_type": "code",
   "execution_count": 38,
   "metadata": {
    "collapsed": false,
    "deletable": true,
    "editable": true
   },
   "outputs": [
    {
     "data": {
      "text/plain": [
       "(0.9041074973278364, 0.8237738985868661)"
      ]
     },
     "execution_count": 38,
     "metadata": {},
     "output_type": "execute_result"
    }
   ],
   "source": [
    "# According to NB documentation, ComplementNB is particularly suited for imbalanced data sets\n",
    "# We see ComplementNB also worked well as it is an adaptation of the MultinomialNB by computing weights\n",
    "\n",
    "cnb = CNB().fit(sparse_train,y_train)\n",
    "cnb.score(sparse_train,y_train), cnb.score(sparse_devel,y_devel)"
   ]
  },
  {
   "cell_type": "code",
   "execution_count": 39,
   "metadata": {
    "collapsed": false,
    "deletable": true,
    "editable": true
   },
   "outputs": [
    {
     "data": {
      "text/html": [
       "<div>\n",
       "<style scoped>\n",
       "    .dataframe tbody tr th:only-of-type {\n",
       "        vertical-align: middle;\n",
       "    }\n",
       "\n",
       "    .dataframe tbody tr th {\n",
       "        vertical-align: top;\n",
       "    }\n",
       "\n",
       "    .dataframe thead th {\n",
       "        text-align: right;\n",
       "    }\n",
       "</style>\n",
       "<table border=\"1\" class=\"dataframe\">\n",
       "  <thead>\n",
       "    <tr style=\"text-align: right;\">\n",
       "      <th></th>\n",
       "      <th>13</th>\n",
       "      <th>39</th>\n",
       "      <th>30</th>\n",
       "      <th>45</th>\n",
       "      <th>17</th>\n",
       "      <th>48</th>\n",
       "      <th>26</th>\n",
       "      <th>25</th>\n",
       "      <th>32</th>\n",
       "      <th>19</th>\n",
       "    </tr>\n",
       "  </thead>\n",
       "  <tbody>\n",
       "    <tr>\n",
       "      <th>count</th>\n",
       "      <td>19647.000000</td>\n",
       "      <td>19647.000000</td>\n",
       "      <td>19647.000000</td>\n",
       "      <td>19647.000000</td>\n",
       "      <td>19647.000000</td>\n",
       "      <td>19647.000000</td>\n",
       "      <td>19647.000000</td>\n",
       "      <td>19647.000000</td>\n",
       "      <td>19647.000000</td>\n",
       "      <td>19647.000000</td>\n",
       "    </tr>\n",
       "    <tr>\n",
       "      <th>mean</th>\n",
       "      <td>0.090215</td>\n",
       "      <td>0.025853</td>\n",
       "      <td>0.850929</td>\n",
       "      <td>0.172794</td>\n",
       "      <td>-0.240004</td>\n",
       "      <td>-0.429057</td>\n",
       "      <td>-0.119619</td>\n",
       "      <td>0.069255</td>\n",
       "      <td>0.094912</td>\n",
       "      <td>-0.009017</td>\n",
       "    </tr>\n",
       "    <tr>\n",
       "      <th>std</th>\n",
       "      <td>0.889175</td>\n",
       "      <td>0.925902</td>\n",
       "      <td>0.806768</td>\n",
       "      <td>0.959072</td>\n",
       "      <td>0.811540</td>\n",
       "      <td>0.890968</td>\n",
       "      <td>0.872880</td>\n",
       "      <td>0.888471</td>\n",
       "      <td>0.892885</td>\n",
       "      <td>0.984496</td>\n",
       "    </tr>\n",
       "    <tr>\n",
       "      <th>min</th>\n",
       "      <td>-4.200651</td>\n",
       "      <td>-4.440148</td>\n",
       "      <td>-3.586761</td>\n",
       "      <td>-4.634739</td>\n",
       "      <td>-5.311850</td>\n",
       "      <td>-4.802133</td>\n",
       "      <td>-5.090477</td>\n",
       "      <td>-4.127858</td>\n",
       "      <td>-4.009519</td>\n",
       "      <td>-6.007782</td>\n",
       "    </tr>\n",
       "    <tr>\n",
       "      <th>25%</th>\n",
       "      <td>-0.439058</td>\n",
       "      <td>-0.485122</td>\n",
       "      <td>0.383080</td>\n",
       "      <td>-0.377169</td>\n",
       "      <td>-0.713971</td>\n",
       "      <td>-0.929362</td>\n",
       "      <td>-0.645791</td>\n",
       "      <td>-0.456548</td>\n",
       "      <td>-0.444053</td>\n",
       "      <td>-0.537551</td>\n",
       "    </tr>\n",
       "    <tr>\n",
       "      <th>50%</th>\n",
       "      <td>0.104774</td>\n",
       "      <td>0.074407</td>\n",
       "      <td>0.851480</td>\n",
       "      <td>0.219371</td>\n",
       "      <td>-0.249571</td>\n",
       "      <td>-0.406130</td>\n",
       "      <td>-0.152344</td>\n",
       "      <td>0.075004</td>\n",
       "      <td>0.077570</td>\n",
       "      <td>0.046842</td>\n",
       "    </tr>\n",
       "    <tr>\n",
       "      <th>75%</th>\n",
       "      <td>0.619652</td>\n",
       "      <td>0.584524</td>\n",
       "      <td>1.338596</td>\n",
       "      <td>0.762085</td>\n",
       "      <td>0.240455</td>\n",
       "      <td>0.088540</td>\n",
       "      <td>0.376360</td>\n",
       "      <td>0.594184</td>\n",
       "      <td>0.612645</td>\n",
       "      <td>0.583968</td>\n",
       "    </tr>\n",
       "    <tr>\n",
       "      <th>max</th>\n",
       "      <td>4.608506</td>\n",
       "      <td>4.346645</td>\n",
       "      <td>5.305717</td>\n",
       "      <td>4.298314</td>\n",
       "      <td>4.237228</td>\n",
       "      <td>5.408000</td>\n",
       "      <td>5.838019</td>\n",
       "      <td>4.394520</td>\n",
       "      <td>4.329350</td>\n",
       "      <td>3.844930</td>\n",
       "    </tr>\n",
       "  </tbody>\n",
       "</table>\n",
       "</div>"
      ],
      "text/plain": [
       "                 13            39            30            45            17  \\\n",
       "count  19647.000000  19647.000000  19647.000000  19647.000000  19647.000000   \n",
       "mean       0.090215      0.025853      0.850929      0.172794     -0.240004   \n",
       "std        0.889175      0.925902      0.806768      0.959072      0.811540   \n",
       "min       -4.200651     -4.440148     -3.586761     -4.634739     -5.311850   \n",
       "25%       -0.439058     -0.485122      0.383080     -0.377169     -0.713971   \n",
       "50%        0.104774      0.074407      0.851480      0.219371     -0.249571   \n",
       "75%        0.619652      0.584524      1.338596      0.762085      0.240455   \n",
       "max        4.608506      4.346645      5.305717      4.298314      4.237228   \n",
       "\n",
       "                 48            26            25            32            19  \n",
       "count  19647.000000  19647.000000  19647.000000  19647.000000  19647.000000  \n",
       "mean      -0.429057     -0.119619      0.069255      0.094912     -0.009017  \n",
       "std        0.890968      0.872880      0.888471      0.892885      0.984496  \n",
       "min       -4.802133     -5.090477     -4.127858     -4.009519     -6.007782  \n",
       "25%       -0.929362     -0.645791     -0.456548     -0.444053     -0.537551  \n",
       "50%       -0.406130     -0.152344      0.075004      0.077570      0.046842  \n",
       "75%        0.088540      0.376360      0.594184      0.612645      0.583968  \n",
       "max        5.408000      5.838019      4.394520      4.329350      3.844930  "
      ]
     },
     "execution_count": 39,
     "metadata": {},
     "output_type": "execute_result"
    }
   ],
   "source": [
    "# Overall, GaussianNB is the worst NB model\n",
    "# Reason 1 could be that we use doc2vec here but GaussianNB does not consider their distance, as doc2vec lost information\n",
    "# Reason 2 could be that our feature is not well-normal-distributed\n",
    "\n",
    "# We select 10 features from train dataset and make a description data frame\n",
    "doc50_train.sample(n=10,axis=\"columns\",random_state=42).describe()"
   ]
  },
  {
   "cell_type": "code",
   "execution_count": 40,
   "metadata": {
    "collapsed": false,
    "deletable": true,
    "editable": true
   },
   "outputs": [
    {
     "data": {
      "image/png": "[encoded data removed]",
      "text/plain": [
       "<Figure size 432x288 with 1 Axes>"
      ]
     },
     "metadata": {
      "needs_background": "light"
     },
     "output_type": "display_data"
    }
   ],
   "source": [
    "# We draw some histogram from description data frame above\n",
    "\n",
    "# First feature from the description data frame above\n",
    "plt.hist(doc50_train[13],bins=30)\n",
    "plt.xlabel(\"Feature 13\")\n",
    "plt.ylabel(\"Frequency\")\n",
    "plt.title(\"Histogram of feature 13 from doc2vec50 training dataset\")\n",
    "plt.show()"
   ]
  },
  {
   "cell_type": "code",
   "execution_count": 41,
   "metadata": {
    "collapsed": false,
    "deletable": true,
    "editable": true
   },
   "outputs": [
    {
     "data": {
      "image/png": "[encoded data removed]",
      "text/plain": [
       "<Figure size 432x288 with 1 Axes>"
      ]
     },
     "metadata": {
      "needs_background": "light"
     },
     "output_type": "display_data"
    }
   ],
   "source": [
    "# Second feature from the description data frame above\n",
    "plt.hist(doc50_train[39],bins=30)\n",
    "plt.xlabel(\"Feature 39\")\n",
    "plt.ylabel(\"Frequency\")\n",
    "plt.title(\"Histogram of feature 39 from doc2vec50 training dataset\")\n",
    "plt.show()"
   ]
  },
  {
   "cell_type": "code",
   "execution_count": 42,
   "metadata": {
    "collapsed": false,
    "deletable": true,
    "editable": true
   },
   "outputs": [
    {
     "data": {
      "image/png": "[encoded data removed]",
      "text/plain": [
       "<Figure size 432x288 with 1 Axes>"
      ]
     },
     "metadata": {
      "needs_background": "light"
     },
     "output_type": "display_data"
    }
   ],
   "source": [
    "# Last feature from the description data frame above\n",
    "plt.hist(doc50_train[19],bins=30)\n",
    "plt.xlabel(\"Feature 19\")\n",
    "plt.ylabel(\"Frequency\")\n",
    "plt.title(\"Histogram of feature 19 from doc2vec50 training dataset\")\n",
    "plt.show()"
   ]
  },
  {
   "cell_type": "code",
   "execution_count": 43,
   "metadata": {
    "collapsed": true,
    "deletable": true,
    "editable": true
   },
   "outputs": [],
   "source": [
    "# We discuss why GaussianNB is ill-performed here\n",
    "# From the result above, we know these features histograms are nearly normal distributed and there is no extreme outliers\n",
    "# Thus, reason 2 is not convinced\n",
    "# Reason 1 is more acceptable\n",
    "# Features are not considered as interpretable concept and features in doc2vec are not representative"
   ]
  },
  {
   "cell_type": "code",
   "execution_count": 44,
   "metadata": {
    "collapsed": true,
    "deletable": true,
    "editable": true
   },
   "outputs": [],
   "source": [
    "from sklearn.feature_extraction.text import TfidfTransformer\n",
    "from sklearn.feature_selection import SelectKBest, chi2, f_classif"
   ]
  },
  {
   "cell_type": "code",
   "execution_count": 45,
   "metadata": {
    "collapsed": false,
    "deletable": true,
    "editable": true
   },
   "outputs": [
    {
     "data": {
      "text/plain": [
       "TfidfTransformer(norm='l2', smooth_idf=True, sublinear_tf=False, use_idf=True)"
      ]
     },
     "execution_count": 45,
     "metadata": {},
     "output_type": "execute_result"
    }
   ],
   "source": [
    "# https://monkeylearn.com/blog/what-is-tf-idf/\n",
    "# tf-idf(term frequency-inverse document frequency) evaluates how relevant a word is to a document in a collection of documents\n",
    "# The higher frequency of a word, the less likely to assess its sentiment (less informative)\n",
    "tfidf = TfidfTransformer().fit(sparse_train)\n",
    "tfidf_train = tfidf.transform(sparse_train)\n",
    "tfidf_devel = tfidf.transform(sparse_devel)\n",
    "tfidf"
   ]
  },
  {
   "cell_type": "code",
   "execution_count": 46,
   "metadata": {
    "collapsed": false,
    "deletable": true,
    "editable": true
   },
   "outputs": [
    {
     "data": {
      "text/plain": [
       "(19647, 41648)"
      ]
     },
     "execution_count": 46,
     "metadata": {},
     "output_type": "execute_result"
    }
   ],
   "source": [
    "tfidf_train.shape"
   ]
  },
  {
   "cell_type": "code",
   "execution_count": 47,
   "metadata": {
    "collapsed": true,
    "deletable": true,
    "editable": true
   },
   "outputs": [],
   "source": [
    "# SelectKBest is able to do feature filtering by chi2 and mutual_info(discrete)\n",
    "# We have to find an appropriate k where k is the number of features we need\n",
    "kbest = SelectKBest(chi2,k=4000).fit(sparse_train,y_train)\n",
    "kbest_train = kbest.transform(sparse_train)\n",
    "kbest_devel = kbest.transform(sparse_devel)"
   ]
  },
  {
   "cell_type": "code",
   "execution_count": 48,
   "metadata": {
    "collapsed": false,
    "deletable": true,
    "editable": true
   },
   "outputs": [
    {
     "data": {
      "text/plain": [
       "SelectKBest(k=4000, score_func=<function chi2 at 0x0000021DDE1F53A8>)"
      ]
     },
     "execution_count": 48,
     "metadata": {},
     "output_type": "execute_result"
    }
   ],
   "source": [
    "kbest"
   ]
  },
  {
   "cell_type": "code",
   "execution_count": 49,
   "metadata": {
    "collapsed": false,
    "deletable": true,
    "editable": true
   },
   "outputs": [
    {
     "data": {
      "text/plain": [
       "(19647, 4000)"
      ]
     },
     "execution_count": 49,
     "metadata": {},
     "output_type": "execute_result"
    }
   ],
   "source": [
    "kbest_train.shape"
   ]
  },
  {
   "cell_type": "code",
   "execution_count": 50,
   "metadata": {
    "collapsed": true,
    "deletable": true,
    "editable": true
   },
   "outputs": [],
   "source": [
    "# Choose a linear model to calculate accuracy\n",
    "# We do not use MultinomialNB here as tf-idf will return counting number in float\n",
    "# By choosing different parameters, SGDClassifier could be converted into LinearSVC or LogisticRegression in some way\n",
    "from sklearn.linear_model import SGDClassifier, LogisticRegression\n",
    "from sklearn.svm import LinearSVC, SVC"
   ]
  },
  {
   "cell_type": "code",
   "execution_count": 51,
   "metadata": {
    "collapsed": false,
    "deletable": true,
    "editable": true
   },
   "outputs": [
    {
     "data": {
      "text/plain": [
       "(0.963963963963964, 0.8447927799548747)"
      ]
     },
     "execution_count": 51,
     "metadata": {},
     "output_type": "execute_result"
    }
   ],
   "source": [
    "# Logistic regression and SGDClassifier\n",
    "sgd =  SGDClassifier(loss=\"log\",random_state=42)\n",
    "sgd.fit(sparse_train,y_train)\n",
    "sgd.score(sparse_train,y_train), sgd.score(sparse_devel,y_devel)"
   ]
  },
  {
   "cell_type": "code",
   "execution_count": 52,
   "metadata": {
    "collapsed": false,
    "deletable": true,
    "editable": true
   },
   "outputs": [
    {
     "name": "stderr",
     "output_type": "stream",
     "text": [
      "D:\\Anaconda3\\lib\\site-packages\\sklearn\\linear_model\\_logistic.py:940: ConvergenceWarning: lbfgs failed to converge (status=1):\n",
      "STOP: TOTAL NO. of ITERATIONS REACHED LIMIT.\n",
      "\n",
      "Increase the number of iterations (max_iter) or scale the data as shown in:\n",
      "    https://scikit-learn.org/stable/modules/preprocessing.html\n",
      "Please also refer to the documentation for alternative solver options:\n",
      "    https://scikit-learn.org/stable/modules/linear_model.html#logistic-regression\n",
      "  extra_warning_msg=_LOGISTIC_SOLVER_CONVERGENCE_MSG)\n"
     ]
    },
    {
     "data": {
      "text/plain": [
       "(0.9867155290884104, 0.8377864861655385)"
      ]
     },
     "execution_count": 52,
     "metadata": {},
     "output_type": "execute_result"
    }
   ],
   "source": [
    "lr = LogisticRegression().fit(sparse_train,y_train)\n",
    "lr.score(sparse_train,y_train), lr.score(sparse_devel,y_devel)"
   ]
  },
  {
   "cell_type": "markdown",
   "metadata": {
    "deletable": true,
    "editable": true
   },
   "source": [
    "## Grid Search with Pipeline"
   ]
  },
  {
   "cell_type": "code",
   "execution_count": 53,
   "metadata": {
    "collapsed": true,
    "deletable": true,
    "editable": true
   },
   "outputs": [],
   "source": [
    "from pprint import pprint\n",
    "from time import time\n",
    "\n",
    "from sklearn.model_selection import GridSearchCV\n",
    "from sklearn.pipeline import Pipeline"
   ]
  },
  {
   "cell_type": "code",
   "execution_count": 54,
   "metadata": {
    "collapsed": false,
    "deletable": true,
    "editable": true
   },
   "outputs": [
    {
     "name": "stderr",
     "output_type": "stream",
     "text": [
      "[Parallel(n_jobs=-1)]: Using backend LokyBackend with 8 concurrent workers.\n"
     ]
    },
    {
     "name": "stdout",
     "output_type": "stream",
     "text": [
      "Performing grid search...\n",
      "pipeline: ['tfidf', 'kbest', 'clf']\n",
      "parameters:\n",
      "{'clf__loss': ('hinge', 'log'),\n",
      " 'clf__penalty': ('l2', 'elasticnet'),\n",
      " 'kbest__k': (1000, 5000, 10000, 20000, 'all'),\n",
      " 'kbest__score_func': (<function chi2 at 0x0000021DDE1F53A8>,\n",
      "                       <function f_classif at 0x0000021DDE1F2EE8>),\n",
      " 'tfidf__norm': ('l1', 'l2'),\n",
      " 'tfidf__sublinear_tf': (True, False)}\n",
      "Fitting 5 folds for each of 160 candidates, totalling 800 fits\n"
     ]
    },
    {
     "name": "stderr",
     "output_type": "stream",
     "text": [
      "[Parallel(n_jobs=-1)]: Done  34 tasks      | elapsed:    7.3s\n",
      "[Parallel(n_jobs=-1)]: Done 184 tasks      | elapsed:   26.6s\n",
      "[Parallel(n_jobs=-1)]: Done 434 tasks      | elapsed:  1.1min\n",
      "[Parallel(n_jobs=-1)]: Done 784 tasks      | elapsed:  2.0min\n",
      "[Parallel(n_jobs=-1)]: Done 800 out of 800 | elapsed:  2.1min finished\n"
     ]
    },
    {
     "name": "stdout",
     "output_type": "stream",
     "text": [
      "done in 127.166s\n",
      "\n",
      "Best score: 0.846\n",
      "Best parameters set:\n",
      "\tclf__loss: 'hinge'\n",
      "\tclf__penalty: 'l2'\n",
      "\tkbest__k: 'all'\n",
      "\tkbest__score_func: <function chi2 at 0x0000021DDE1F53A8>\n",
      "\ttfidf__norm: 'l2'\n",
      "\ttfidf__sublinear_tf: True\n"
     ]
    }
   ],
   "source": [
    "# Idea of building pipeline is from the following website\n",
    "# https://scikit-learn.org/stable/auto_examples/model_selection/grid_search_text_feature_extraction.html\n",
    "# Define a pipeline combining a text feature extractor with a simple classifier\n",
    "pipeline = Pipeline([\n",
    "    ('tfidf', TfidfTransformer()),\n",
    "    (\"kbest\", SelectKBest()),\n",
    "    ('clf', SGDClassifier()),\n",
    "])\n",
    "\n",
    "# Increase processing time in a combinatorial way\n",
    "# Modify parameters with grid search function below\n",
    "parameters = {\n",
    "    \"tfidf__norm\": (\"l1\",\"l2\"),\n",
    "    \"tfidf__sublinear_tf\": (True,False),\n",
    "    \"kbest__score_func\": (chi2,f_classif),\n",
    "    \"kbest__k\": (1000,5000,10000,20000,\"all\"),\n",
    "    \"clf__penalty\": (\"l2\",\"elasticnet\"),\n",
    "    \"clf__loss\": (\"hinge\",\"log\"),\n",
    "}\n",
    "\n",
    "# In red output block, we know best parameter combination\n",
    "if __name__ == \"__main__\":\n",
    "    # Multiprocessing requires the fork to happen in a __main__ protected block\n",
    "\n",
    "    # Find the best parameters for both the feature extraction and the classifier\n",
    "    grid_search = GridSearchCV(pipeline,parameters,cv=5,n_jobs=-1,verbose=1)\n",
    "    \n",
    "    print(\"Performing grid search...\")\n",
    "    print(\"pipeline:\", [name for name, _ in pipeline.steps])\n",
    "    print(\"parameters:\")\n",
    "    pprint(parameters)\n",
    "    t0 = time()\n",
    "    grid_search.fit(sparse_train,y_train)\n",
    "    print(\"done in %0.3fs\" % (time() - t0))\n",
    "    print()\n",
    "\n",
    "    print(\"Best score: %0.3f\" % grid_search.best_score_)\n",
    "    print(\"Best parameters set:\")\n",
    "    best_parameters = grid_search.best_estimator_.get_params()\n",
    "    for param_name in sorted(parameters.keys()):\n",
    "        print(\"\\t%s: %r\" % (param_name, best_parameters[param_name]))"
   ]
  },
  {
   "cell_type": "code",
   "execution_count": 55,
   "metadata": {
    "collapsed": true,
    "deletable": true,
    "editable": true
   },
   "outputs": [],
   "source": [
    "# Some analysis\n",
    "# "
   ]
  },
  {
   "cell_type": "code",
   "execution_count": 56,
   "metadata": {
    "collapsed": false,
    "deletable": true,
    "editable": true
   },
   "outputs": [
    {
     "data": {
      "text/plain": [
       "{'clf__loss': 'hinge',\n",
       " 'clf__penalty': 'l2',\n",
       " 'kbest__k': 'all',\n",
       " 'kbest__score_func': <function sklearn.feature_selection._univariate_selection.chi2(X, y)>,\n",
       " 'tfidf__norm': 'l2',\n",
       " 'tfidf__sublinear_tf': True}"
      ]
     },
     "execution_count": 56,
     "metadata": {},
     "output_type": "execute_result"
    }
   ],
   "source": [
    "# Best parameter combination from grid search\n",
    "grid_search.best_params_"
   ]
  },
  {
   "cell_type": "code",
   "execution_count": 57,
   "metadata": {
    "collapsed": false,
    "deletable": true,
    "editable": true
   },
   "outputs": [
    {
     "data": {
      "text/plain": [
       "array([159, 156,  38,  40, 141, 141,  33,  35, 110, 103,  31,  30, 112,\n",
       "       111,  23,  25, 104,  86,   8,  18, 106,  94,  11,  24,  86,  86,\n",
       "         2,  17,  93,  86,   4,  16, 100,  86,   1,  12, 100,  86,   3,\n",
       "         9, 140, 113,  37,  39, 131, 131,  34,  36, 108,  86,  28,  32,\n",
       "       109, 105,  22,  29, 100,  83,  13,  27, 106,  94,  14,  26,  94,\n",
       "        81,   5,  21,  94,  83,  10,  15,  94,  81,   7,  20,  94,  83,\n",
       "         6,  19, 155, 136,  78,  80, 122, 136,  74,  76, 143, 146,  59,\n",
       "        72, 127, 128,  54,  70, 133, 134,  45,  58, 143, 146,  47,  61,\n",
       "       120, 136,  49,  60, 120, 146,  52,  67, 114, 146,  50,  53, 114,\n",
       "       128,  42,  63, 143, 160,  77,  79, 130, 135,  73,  75, 116, 157,\n",
       "        56,  71, 116, 146,  55,  69, 122, 146,  41,  63, 116, 146,  51,\n",
       "        65, 116, 146,  43,  62, 122, 157,  46,  66, 122, 136,  48,  68,\n",
       "       122, 146,  44,  57])"
      ]
     },
     "execution_count": 57,
     "metadata": {},
     "output_type": "execute_result"
    }
   ],
   "source": [
    "results = grid_search.cv_results_\n",
    "test_scores = results[\"mean_test_score\"]\n",
    "params = results[\"params\"]\n",
    "rank = results[\"rank_test_score\"]\n",
    "results[\"rank_test_score\"]"
   ]
  },
  {
   "cell_type": "code",
   "execution_count": 58,
   "metadata": {
    "collapsed": false,
    "deletable": true,
    "editable": true
   },
   "outputs": [
    {
     "data": {
      "text/plain": [
       "dict_keys(['mean_fit_time', 'std_fit_time', 'mean_score_time', 'std_score_time', 'param_clf__loss', 'param_clf__penalty', 'param_kbest__k', 'param_kbest__score_func', 'param_tfidf__norm', 'param_tfidf__sublinear_tf', 'params', 'split0_test_score', 'split1_test_score', 'split2_test_score', 'split3_test_score', 'split4_test_score', 'mean_test_score', 'std_test_score', 'rank_test_score'])"
      ]
     },
     "execution_count": 58,
     "metadata": {},
     "output_type": "execute_result"
    }
   ],
   "source": [
    "results.keys()"
   ]
  },
  {
   "cell_type": "code",
   "execution_count": 59,
   "metadata": {
    "collapsed": false,
    "deletable": true,
    "editable": true
   },
   "outputs": [
    {
     "data": {
      "text/plain": [
       "array([34, 26, 38, 30, 66], dtype=int64)"
      ]
     },
     "execution_count": 59,
     "metadata": {},
     "output_type": "execute_result"
    }
   ],
   "source": [
    "# Indices of the first 5 best combinations \n",
    "rank.argsort()[:5]"
   ]
  },
  {
   "cell_type": "code",
   "execution_count": 60,
   "metadata": {
    "collapsed": false,
    "deletable": true,
    "editable": true
   },
   "outputs": [
    {
     "data": {
      "text/plain": [
       "array([{'clf__loss': 'hinge', 'clf__penalty': 'l2', 'kbest__k': 'all', 'kbest__score_func': <function chi2 at 0x0000021DDE1F53A8>, 'tfidf__norm': 'l2', 'tfidf__sublinear_tf': True},\n",
       "       {'clf__loss': 'hinge', 'clf__penalty': 'l2', 'kbest__k': 20000, 'kbest__score_func': <function chi2 at 0x0000021DDE1F53A8>, 'tfidf__norm': 'l2', 'tfidf__sublinear_tf': True},\n",
       "       {'clf__loss': 'hinge', 'clf__penalty': 'l2', 'kbest__k': 'all', 'kbest__score_func': <function f_classif at 0x0000021DDE1F2EE8>, 'tfidf__norm': 'l2', 'tfidf__sublinear_tf': True},\n",
       "       {'clf__loss': 'hinge', 'clf__penalty': 'l2', 'kbest__k': 20000, 'kbest__score_func': <function f_classif at 0x0000021DDE1F2EE8>, 'tfidf__norm': 'l2', 'tfidf__sublinear_tf': True},\n",
       "       {'clf__loss': 'hinge', 'clf__penalty': 'elasticnet', 'kbest__k': 20000, 'kbest__score_func': <function chi2 at 0x0000021DDE1F53A8>, 'tfidf__norm': 'l2', 'tfidf__sublinear_tf': True}],\n",
       "      dtype=object)"
      ]
     },
     "execution_count": 60,
     "metadata": {},
     "output_type": "execute_result"
    }
   ],
   "source": [
    "# The first 5 best combinations and their selected hyperparameters \n",
    "np.take(params,list(rank.argsort()[:5]))"
   ]
  },
  {
   "cell_type": "code",
   "execution_count": 61,
   "metadata": {
    "collapsed": false,
    "deletable": true,
    "editable": true
   },
   "outputs": [
    {
     "data": {
      "text/plain": [
       "array([0.84582908, 0.84511644, 0.84435311, 0.8439457 , 0.84313149])"
      ]
     },
     "execution_count": 61,
     "metadata": {},
     "output_type": "execute_result"
    }
   ],
   "source": [
    "# Test scores of the first 5 combinations are closed\n",
    "np.take(test_scores,list(rank.argsort()[:5]))"
   ]
  },
  {
   "cell_type": "code",
   "execution_count": 62,
   "metadata": {
    "collapsed": true,
    "deletable": true,
    "editable": true
   },
   "outputs": [],
   "source": [
    "# Best hyperparameters for tfidf and SGDClassifier seems consistent\n",
    "# We can see that by dropping to only 20000 features(40000 features in total),\n",
    "# where we only suffer a negligible loss of cross-validated train accuracy"
   ]
  },
  {
   "cell_type": "code",
   "execution_count": 63,
   "metadata": {
    "collapsed": true,
    "deletable": true,
    "editable": true
   },
   "outputs": [],
   "source": [
    "# Difference between development accuracy\n",
    "tfidf = TfidfTransformer(norm=\"l2\",sublinear_tf=True).fit(sparse_train)\n",
    "tfidf_train = tfidf.transform(sparse_train)\n",
    "tfidf_devel = tfidf.transform(sparse_devel)\n",
    "tfidf_test = tfidf.transform(test_sparse)"
   ]
  },
  {
   "cell_type": "code",
   "execution_count": 64,
   "metadata": {
    "collapsed": false,
    "deletable": true,
    "editable": true
   },
   "outputs": [
    {
     "data": {
      "text/plain": [
       "(0.9085865526543493, 0.8514428215176345)"
      ]
     },
     "execution_count": 64,
     "metadata": {},
     "output_type": "execute_result"
    }
   ],
   "source": [
    "# Trial for using all features via SGDClassifier with the best hyperparameter combination\n",
    "sgd_all = SGDClassifier(loss=\"hinge\",penalty=\"l2\").fit(tfidf_train,y_train)\n",
    "sgd_all.score(tfidf_train,y_train), sgd_all.score(tfidf_devel,y_devel)"
   ]
  },
  {
   "cell_type": "code",
   "execution_count": 65,
   "metadata": {
    "collapsed": false,
    "deletable": true,
    "editable": true
   },
   "outputs": [
    {
     "data": {
      "text/plain": [
       "(0.9091973329261465, 0.8526303289395559)"
      ]
     },
     "execution_count": 65,
     "metadata": {},
     "output_type": "execute_result"
    }
   ],
   "source": [
    "# Trial for using 20000 features via SGDClassifier with a non-best hyperparameter combination,\n",
    "# where these features were selected by chi2\n",
    "kbest = SelectKBest(score_func=chi2,k=20000).fit(tfidf_train,y_train)\n",
    "train_20K = kbest.transform(tfidf_train)\n",
    "devel_20K = kbest.transform(tfidf_devel)\n",
    "test_20K = kbest.transform(tfidf_test)\n",
    "\n",
    "sgd_all = SGDClassifier(loss=\"hinge\",penalty=\"l2\").fit(tfidf_train,y_train)\n",
    "sgd_all.score(tfidf_train,y_train), sgd_all.score(tfidf_devel,y_devel)"
   ]
  },
  {
   "cell_type": "code",
   "execution_count": 66,
   "metadata": {
    "collapsed": true,
    "deletable": true,
    "editable": true
   },
   "outputs": [],
   "source": [
    "# If we drop half features, there is no obvious difference in scores\n",
    "# Our model will run faster if choosing 20000 features"
   ]
  },
  {
   "cell_type": "code",
   "execution_count": 67,
   "metadata": {
    "collapsed": false,
    "deletable": true,
    "editable": true
   },
   "outputs": [
    {
     "data": {
      "text/plain": [
       "(0.8296941008805415, 0.8231801448759055)"
      ]
     },
     "execution_count": 67,
     "metadata": {},
     "output_type": "execute_result"
    }
   ],
   "source": [
    "# For doc2vec, we start with the one containing 200 features\n",
    "sgd = SGDClassifier().fit(doc200_train,y_train)\n",
    "sgd.score(doc200_train,y_train), sgd.score(doc200_devel,y_devel)"
   ]
  },
  {
   "cell_type": "markdown",
   "metadata": {
    "deletable": true,
    "editable": true
   },
   "source": [
    "## Build and Evaluate Models"
   ]
  },
  {
   "cell_type": "code",
   "execution_count": 68,
   "metadata": {
    "collapsed": true,
    "deletable": true,
    "editable": true
   },
   "outputs": [],
   "source": [
    "# Based on a hypothesis which sparse matrix is linear separable, we use linear models\n",
    "from sklearn.model_selection import cross_validate, cross_val_score as cvscore\n",
    "from sklearn.metrics import classification_report, confusion_matrix"
   ]
  },
  {
   "cell_type": "markdown",
   "metadata": {
    "deletable": true,
    "editable": true
   },
   "source": [
    "## LinearSVC on sparse matrix with 20K features"
   ]
  },
  {
   "cell_type": "code",
   "execution_count": 69,
   "metadata": {
    "collapsed": false,
    "deletable": true,
    "editable": true
   },
   "outputs": [
    {
     "data": {
      "text/plain": [
       "(0.8472031614594162, 0.8517990737442109)"
      ]
     },
     "execution_count": 69,
     "metadata": {},
     "output_type": "execute_result"
    }
   ],
   "source": [
    "svc = LinearSVC().fit(train_20K,y_train)\n",
    "cvscore(svc,train_20K,y_train,cv=5).mean(), svc.score(devel_20K,y_devel)"
   ]
  },
  {
   "cell_type": "code",
   "execution_count": 70,
   "metadata": {
    "collapsed": false,
    "deletable": true,
    "editable": true
   },
   "outputs": [
    {
     "name": "stdout",
     "output_type": "stream",
     "text": [
      "              precision    recall  f1-score   support\n",
      "\n",
      "           1       0.84      0.63      0.72       717\n",
      "           3       0.71      0.65      0.68      1854\n",
      "           5       0.89      0.94      0.92      5850\n",
      "\n",
      "    accuracy                           0.85      8421\n",
      "   macro avg       0.81      0.74      0.77      8421\n",
      "weighted avg       0.85      0.85      0.85      8421\n",
      "\n"
     ]
    }
   ],
   "source": [
    "# Evaluate a result\n",
    "\n",
    "# According to the report, we know SVC is well-performed on label 5, followed by label 1 and label 3\n",
    "# A possible reason would be that label 3 is most ambigious/confusing\n",
    "# SVC is less-performed on label 5 that could be cause by uneven label 1 distribution\n",
    "# Overall, this model is competent as we use linear separable data\n",
    "\n",
    "svc_pred_20K = svc.predict(devel_20K)\n",
    "print(classification_report(y_devel,svc_pred_20K))"
   ]
  },
  {
   "cell_type": "code",
   "execution_count": 71,
   "metadata": {
    "collapsed": false,
    "deletable": true,
    "editable": true
   },
   "outputs": [
    {
     "data": {
      "text/plain": [
       "array([[ 452,  184,   81],\n",
       "       [  67, 1199,  588],\n",
       "       [  18,  310, 5522]], dtype=int64)"
      ]
     },
     "execution_count": 71,
     "metadata": {},
     "output_type": "execute_result"
    }
   ],
   "source": [
    "matrix_svc = confusion_matrix(y_devel,svc_pred_20K)\n",
    "matrix_svc"
   ]
  },
  {
   "cell_type": "code",
   "execution_count": 72,
   "metadata": {
    "collapsed": false,
    "deletable": true,
    "editable": true
   },
   "outputs": [
    {
     "data": {
      "text/plain": [
       "array([[0.63040446, 0.25662483, 0.11297071],\n",
       "       [0.03613808, 0.64670982, 0.3171521 ],\n",
       "       [0.00307692, 0.05299145, 0.94393162]])"
      ]
     },
     "execution_count": 72,
     "metadata": {},
     "output_type": "execute_result"
    }
   ],
   "source": [
    "from sklearn.preprocessing import normalize\n",
    "normed_matrix_svc = normalize(matrix_svc, axis=1, norm='l1')\n",
    "normed_matrix_svc"
   ]
  },
  {
   "cell_type": "code",
   "execution_count": 73,
   "metadata": {
    "collapsed": false,
    "deletable": true,
    "editable": true
   },
   "outputs": [
    {
     "data": {
      "image/png": "[encoded data removed]",
      "text/plain": [
       "<Figure size 432x288 with 2 Axes>"
      ]
     },
     "metadata": {
      "needs_background": "light"
     },
     "output_type": "display_data"
    }
   ],
   "source": [
    "import seaborn as sns\n",
    "#sns.heatmap(norm_matrix_svc,annot=True,fmt=\"d\",xticklabels=[\"1\",\"3\",\"5\"],yticklabels=[\"1\",\"3\",\"5\"],cmap=\"Reds\")\n",
    "sns.heatmap(normed_matrix_svc,annot=True,xticklabels=[\"1\",\"3\",\"5\"],yticklabels=[\"1\",\"3\",\"5\"],cmap=\"Reds\")\n",
    "plt.title(\"SVC confusion matrix\")\n",
    "plt.xlabel(\"Predicted Classes\")\n",
    "plt.ylabel(\"Actual Classes\")\n",
    "plt.show()"
   ]
  },
  {
   "cell_type": "code",
   "execution_count": 74,
   "metadata": {
    "collapsed": false,
    "deletable": true,
    "editable": true
   },
   "outputs": [
    {
     "data": {
      "text/plain": [
       "Text(33.0, 0.5, 'Actual Classes')"
      ]
     },
     "execution_count": 74,
     "metadata": {},
     "output_type": "execute_result"
    },
    {
     "data": {
      "image/png": "[encoded data removed]",
      "text/plain": [
       "<Figure size 432x288 with 2 Axes>"
      ]
     },
     "metadata": {
      "needs_background": "light"
     },
     "output_type": "display_data"
    }
   ],
   "source": [
    "sns.heatmap(matrix_svc,annot=True,fmt=\"d\",xticklabels=[\"1\",\"3\",\"5\"],yticklabels=[\"1\",\"3\",\"5\"],cmap=\"Reds\")\n",
    "#sns.heatmap(norm_matrix_svc,annot=True,xticklabels=[\"1\",\"3\",\"5\"],yticklabels=[\"1\",\"3\",\"5\"],cmap=\"Reds\")\n",
    "plt.title(\"SVC confusion matrix\")\n",
    "plt.xlabel(\"Predicted Classes\")\n",
    "plt.ylabel(\"Actual Classes\")"
   ]
  },
  {
   "cell_type": "code",
   "execution_count": 75,
   "metadata": {
    "collapsed": true,
    "deletable": true,
    "editable": true
   },
   "outputs": [],
   "source": [
    "# Use validation curve and learning curve to evaluate\n",
    "from sklearn.model_selection import validation_curve, learning_curve"
   ]
  },
  {
   "cell_type": "code",
   "execution_count": 76,
   "metadata": {
    "collapsed": false,
    "deletable": true,
    "editable": true
   },
   "outputs": [
    {
     "name": "stderr",
     "output_type": "stream",
     "text": [
      "[Parallel(n_jobs=-1)]: Using backend LokyBackend with 8 concurrent workers.\n",
      "[Parallel(n_jobs=-1)]: Done   3 out of  50 | elapsed:    0.8s remaining:   13.3s\n",
      "[Parallel(n_jobs=-1)]: Done   9 out of  50 | elapsed:    2.2s remaining:   10.4s\n",
      "[Parallel(n_jobs=-1)]: Done  15 out of  50 | elapsed:    5.8s remaining:   13.6s\n",
      "[Parallel(n_jobs=-1)]: Done  21 out of  50 | elapsed:   10.2s remaining:   14.1s\n",
      "[Parallel(n_jobs=-1)]: Done  27 out of  50 | elapsed:   16.1s remaining:   13.7s\n",
      "[Parallel(n_jobs=-1)]: Done  33 out of  50 | elapsed:   20.4s remaining:   10.5s\n",
      "[Parallel(n_jobs=-1)]: Done  39 out of  50 | elapsed:   22.7s remaining:    6.3s\n",
      "[Parallel(n_jobs=-1)]: Done  45 out of  50 | elapsed:   30.2s remaining:    3.3s\n",
      "[Parallel(n_jobs=-1)]: Done  50 out of  50 | elapsed:   36.5s finished\n"
     ]
    }
   ],
   "source": [
    "# Determine best regularization parameter in LinearSVC\n",
    "# Select 10 points between e^-2 and e^2\n",
    "param_range = np.logspace(-2,2,10)\n",
    "train_scores, valid_scores = validation_curve(LinearSVC(),train_20K,y_train,\n",
    "                                              \"C\",param_range=param_range,cv=5,n_jobs=-1,verbose=10)"
   ]
  },
  {
   "cell_type": "code",
   "execution_count": 77,
   "metadata": {
    "collapsed": false,
    "deletable": true,
    "editable": true
   },
   "outputs": [
    {
     "data": {
      "text/plain": [
       "array([[0.71591271, 0.71801234, 0.71561267, 0.71618527, 0.71624889],\n",
       "       [0.8046701 , 0.80708787, 0.807291  , 0.8060822 , 0.80449167],\n",
       "       [0.87001336, 0.87071324, 0.86989439, 0.87084871, 0.86728591],\n",
       "       [0.91798689, 0.91881402, 0.91665606, 0.91907367, 0.91862832],\n",
       "       [0.95756188, 0.95768913, 0.95692836, 0.95896424, 0.95807355],\n",
       "       [0.98288477, 0.98154864, 0.98263138, 0.98244051, 0.98231327],\n",
       "       [0.99408284, 0.99414647, 0.99421046, 0.99484667, 0.99440132],\n",
       "       [0.99821849, 0.99809124, 0.99860033, 0.99815498, 0.99840947],\n",
       "       [0.999491  , 0.99968187, 0.99955465, 0.99923654, 0.99936379],\n",
       "       [0.99980912, 0.99980912, 0.99974551, 0.99961827, 0.99974551]])"
      ]
     },
     "execution_count": 77,
     "metadata": {},
     "output_type": "execute_result"
    }
   ],
   "source": [
    "# Every subset represents a C\n",
    "train_scores"
   ]
  },
  {
   "cell_type": "code",
   "execution_count": 78,
   "metadata": {
    "collapsed": false,
    "deletable": true,
    "editable": true
   },
   "outputs": [
    {
     "data": {
      "text/plain": [
       "array([[0.71094148, 0.70941476, 0.71315856, 0.71010435, 0.71137694],\n",
       "       [0.78727735, 0.78066158, 0.78340545, 0.78365996, 0.78951387],\n",
       "       [0.83435115, 0.82493639, 0.82743701, 0.82718249, 0.83685416],\n",
       "       [0.84910941, 0.84351145, 0.84627132, 0.84550776, 0.85237974],\n",
       "       [0.8475827 , 0.84860051, 0.85008908, 0.84958005, 0.85390685],\n",
       "       [0.84503817, 0.84529262, 0.84347162, 0.84118096, 0.84474421],\n",
       "       [0.83256997, 0.83435115, 0.83278188, 0.83100025, 0.83583609],\n",
       "       [0.82366412, 0.82035623, 0.8215831 , 0.81776533, 0.82031051],\n",
       "       [0.81323155, 0.80559796, 0.81165691, 0.80402138, 0.80783914],\n",
       "       [0.80559796, 0.79491094, 0.80529397, 0.79689488, 0.79918554]])"
      ]
     },
     "execution_count": 78,
     "metadata": {},
     "output_type": "execute_result"
    }
   ],
   "source": [
    "valid_scores"
   ]
  },
  {
   "cell_type": "code",
   "execution_count": 79,
   "metadata": {
    "collapsed": false,
    "deletable": true,
    "editable": true
   },
   "outputs": [
    {
     "data": {
      "text/plain": [
       "(array([0.71639437, 0.80592457, 0.86975112, 0.9182318 , 0.95784343,\n",
       "        0.98236372, 0.99433755, 0.9982949 , 0.99946557, 0.99974551]),\n",
       " array([8.39735399e-04, 1.17236099e-03, 1.28817018e-03, 8.65781980e-04,\n",
       "        6.70762328e-04, 4.50762410e-04, 2.75976523e-04, 1.86175819e-04,\n",
       "        1.53741114e-04, 6.96892365e-05]),\n",
       " array([0.71099922, 0.78490364, 0.83015224, 0.84735594, 0.84995184,\n",
       "        0.84394552, 0.83330787, 0.82073586, 0.80846939, 0.80037666]),\n",
       " array([8.39735399e-04, 1.17236099e-03, 1.28817018e-03, 8.65781980e-04,\n",
       "        6.70762328e-04, 4.50762410e-04, 2.75976523e-04, 1.86175819e-04,\n",
       "        1.53741114e-04, 6.96892365e-05]))"
      ]
     },
     "execution_count": 79,
     "metadata": {},
     "output_type": "execute_result"
    }
   ],
   "source": [
    "mean_train_scores = np.mean(train_scores,axis=1)\n",
    "std_train_scores = np.std(train_scores,axis=1)\n",
    "mean_valid_scores = np.mean(valid_scores,axis=1)\n",
    "std_valid_scores = np.std(valid_scores,axis=1)\n",
    "mean_train_scores, std_train_scores, mean_valid_scores, std_train_scores"
   ]
  },
  {
   "cell_type": "code",
   "execution_count": 80,
   "metadata": {
    "collapsed": false,
    "deletable": true,
    "editable": true
   },
   "outputs": [
    {
     "data": {
      "image/png": "[encoded data removed]",
      "text/plain": [
       "<Figure size 432x288 with 1 Axes>"
      ]
     },
     "metadata": {
      "needs_background": "light"
     },
     "output_type": "display_data"
    }
   ],
   "source": [
    "# Plot the curve on log scale\n",
    "# Scource is from the below website\n",
    "# https://scikit-learn.org/stable/auto_examples/model_selection/plot_validation_curve.html\n",
    "plt.semilogx(param_range,mean_train_scores,label=\"Train Scores\",color=\"r\")\n",
    "plt.fill_between(param_range,mean_train_scores-std_train_scores,mean_train_scores+std_train_scores,alpha=0.2,color=\"r\")\n",
    "\n",
    "# Cross Validation Scores has a bigger std\n",
    "plt.semilogx(param_range,mean_valid_scores,label=\"Cross Validation Scores\",color=\"b\")\n",
    "plt.fill_between(param_range,mean_valid_scores-std_valid_scores,mean_valid_scores+std_valid_scores,alpha=0.2,color=\"b\")\n",
    "\n",
    "plt.legend(loc=\"best\")\n",
    "\n",
    "plt.title(\"Validation curve for hyperparameter C in LinearSVC\")\n",
    "plt.xlabel(\"C in log scale\")\n",
    "plt.ylabel(\"Accuracy\")\n",
    "plt.show()"
   ]
  },
  {
   "cell_type": "code",
   "execution_count": 81,
   "metadata": {
    "collapsed": false,
    "deletable": true,
    "editable": true
   },
   "outputs": [
    {
     "data": {
      "text/plain": [
       "0.5994842503189409"
      ]
     },
     "execution_count": 81,
     "metadata": {},
     "output_type": "execute_result"
    }
   ],
   "source": [
    "best_C = param_range[mean_valid_scores.argmax()]\n",
    "best_C"
   ]
  },
  {
   "cell_type": "code",
   "execution_count": 82,
   "metadata": {
    "collapsed": true,
    "deletable": true,
    "editable": true
   },
   "outputs": [],
   "source": [
    "# Brief analysis:\n",
    "# Training score continuously increases, as C goes larger, decision boundary goes higher, margin goes smaller, \n",
    "# where training results are more precise\n",
    "# Validation score firstly increases but shrinks with a larger C. The reason would be that over-fitting appears\n",
    "# Meanwhile, as for the curve of validation score, there are apparant std when C is large. This suggests that generalization is ill-performed\n",
    "# We choose a highest validation score (0.599)"
   ]
  },
  {
   "cell_type": "code",
   "execution_count": 83,
   "metadata": {
    "collapsed": false,
    "deletable": true,
    "editable": true
   },
   "outputs": [
    {
     "name": "stdout",
     "output_type": "stream",
     "text": [
      "[learning_curve] Training set sizes: [ 1571  5108  8644 12180 15717]\n"
     ]
    },
    {
     "name": "stderr",
     "output_type": "stream",
     "text": [
      "[Parallel(n_jobs=-1)]: Using backend LokyBackend with 8 concurrent workers.\n",
      "[Parallel(n_jobs=-1)]: Done   2 out of  25 | elapsed:    0.1s remaining:    2.5s\n",
      "[Parallel(n_jobs=-1)]: Done   5 out of  25 | elapsed:    0.5s remaining:    2.3s\n",
      "[Parallel(n_jobs=-1)]: Done   8 out of  25 | elapsed:    0.8s remaining:    1.9s\n",
      "[Parallel(n_jobs=-1)]: Done  11 out of  25 | elapsed:    1.0s remaining:    1.4s\n",
      "[Parallel(n_jobs=-1)]: Done  14 out of  25 | elapsed:    1.4s remaining:    1.1s\n",
      "[Parallel(n_jobs=-1)]: Done  17 out of  25 | elapsed:    1.8s remaining:    0.8s\n",
      "[Parallel(n_jobs=-1)]: Done  20 out of  25 | elapsed:    2.0s remaining:    0.4s\n",
      "[Parallel(n_jobs=-1)]: Done  23 out of  25 | elapsed:    2.2s remaining:    0.1s\n",
      "[Parallel(n_jobs=-1)]: Done  25 out of  25 | elapsed:    2.5s finished\n"
     ]
    }
   ],
   "source": [
    "# Plotting learning curve\n",
    "# Scource from:\n",
    "# http://mlwiki.org/index.php/Learning_Curves\n",
    "train_size, learn_train, learn_test = learning_curve(LinearSVC(C=best_C),train_20K,y_train,train_sizes=np.linspace(0.1,1,5),cv=5,n_jobs=-1,verbose=10)"
   ]
  },
  {
   "cell_type": "code",
   "execution_count": 84,
   "metadata": {
    "collapsed": false,
    "deletable": true,
    "editable": true
   },
   "outputs": [
    {
     "data": {
      "text/plain": [
       "array([[0.99427116, 0.99681731, 0.99681731, 0.99681731, 0.99681731],\n",
       "       [0.98042287, 0.98120595, 0.98003132, 0.98003132, 0.98003132],\n",
       "       [0.97015271, 0.96853309, 0.97061546, 0.97142527, 0.97142527],\n",
       "       [0.9634647 , 0.96141215, 0.96190476, 0.963711  , 0.96436782],\n",
       "       [0.95756188, 0.95768913, 0.95698925, 0.95921614, 0.95800725]])"
      ]
     },
     "execution_count": 84,
     "metadata": {},
     "output_type": "execute_result"
    }
   ],
   "source": [
    "# Inspect learning score\n",
    "learn_train"
   ]
  },
  {
   "cell_type": "code",
   "execution_count": 85,
   "metadata": {
    "collapsed": false,
    "deletable": true,
    "editable": true
   },
   "outputs": [
    {
     "data": {
      "text/plain": [
       "(array([0.99630808, 0.98034456, 0.97043036, 0.96297209, 0.95789273]),\n",
       " array([0.00101846, 0.00045661, 0.00106683, 0.00112333, 0.00073915]),\n",
       " array([0.78785506, 0.82938871, 0.83911035, 0.84684701, 0.84959551]),\n",
       " array([0.00639971, 0.00236854, 0.00260358, 0.00256792, 0.00222577]))"
      ]
     },
     "execution_count": 85,
     "metadata": {},
     "output_type": "execute_result"
    }
   ],
   "source": [
    "mean_learn_train = np.mean(learn_train,axis=1)\n",
    "std_learn_train = np.std(learn_train,axis=1)\n",
    "mean_learn_test = np.mean(learn_test,axis=1)\n",
    "std_learn_test = np.std(learn_test,axis=1)\n",
    "mean_learn_train, std_learn_train, mean_learn_test, std_learn_test"
   ]
  },
  {
   "cell_type": "code",
   "execution_count": 86,
   "metadata": {
    "collapsed": false,
    "deletable": true,
    "editable": true
   },
   "outputs": [
    {
     "data": {
      "image/png": "[encoded data removed]",
      "text/plain": [
       "<Figure size 432x288 with 1 Axes>"
      ]
     },
     "metadata": {
      "needs_background": "light"
     },
     "output_type": "display_data"
    }
   ],
   "source": [
    "plt.plot(np.linspace(0.1,1,5),mean_learn_train,label=\"Train Scores\",color=\"r\")\n",
    "plt.fill_between(np.linspace(0.1,1,5),mean_learn_train-std_learn_train,\n",
    "                mean_learn_train+std_learn_train,alpha=0.2,color=\"r\")\n",
    "\n",
    "plt.plot(np.linspace(0.1,1,5),mean_learn_test,label=\"Test Scores\",color=\"b\")\n",
    "plt.fill_between(np.linspace(0.1,1,5),mean_learn_test-std_learn_test,\n",
    "                mean_learn_test+std_learn_test,alpha=0.2,color=\"b\")\n",
    "\n",
    "plt.legend(loc=\"best\")\n",
    "\n",
    "plt.title(\"Learning curve for LinearSVC\")\n",
    "plt.xlabel(\"Size of training data\")\n",
    "plt.ylabel(\"Accuracy\")\n",
    "plt.show()"
   ]
  },
  {
   "cell_type": "code",
   "execution_count": 87,
   "metadata": {
    "collapsed": true,
    "deletable": true,
    "editable": true
   },
   "outputs": [],
   "source": [
    "# Brief analysis\n",
    "# The wider the gap between 2 curves are, the less accuracy between training and validation, the higher we have risk of overfitting\n",
    "# Test score curve shows that if we input more training data, we would have less std and higher scores\n",
    "# When size of training data hits a specific value, 2 curves will be paralleled (Stablized)"
   ]
  },
  {
   "cell_type": "code",
   "execution_count": 88,
   "metadata": {
    "collapsed": false,
    "deletable": true,
    "editable": true
   },
   "outputs": [
    {
     "data": {
      "text/plain": [
       "(0.8499518359274061, 0.8561928512053201)"
      ]
     },
     "execution_count": 88,
     "metadata": {},
     "output_type": "execute_result"
    }
   ],
   "source": [
    "final_svc = LinearSVC(C=best_C).fit(train_20K,y_train)\n",
    "cvscore(final_svc,train_20K,y_train,cv=5).mean(), final_svc.score(devel_20K,y_devel)"
   ]
  },
  {
   "cell_type": "markdown",
   "metadata": {
    "deletable": true,
    "editable": true
   },
   "source": [
    "## Logistic Regression on doc2vec_200"
   ]
  },
  {
   "cell_type": "code",
   "execution_count": 89,
   "metadata": {
    "collapsed": false,
    "deletable": true,
    "editable": true
   },
   "outputs": [
    {
     "data": {
      "text/plain": [
       "(0.8262329244859616, 0.833867711673198)"
      ]
     },
     "execution_count": 89,
     "metadata": {},
     "output_type": "execute_result"
    }
   ],
   "source": [
    "lr = LogisticRegression(solver=\"lbfgs\",multi_class=\"ovr\").fit(doc200_train,y_train)\n",
    "cvscore(lr,doc200_train,y_train,cv=5).mean(), lr.score(doc200_devel,y_devel)"
   ]
  },
  {
   "cell_type": "code",
   "execution_count": 90,
   "metadata": {
    "collapsed": false,
    "deletable": true,
    "editable": true
   },
   "outputs": [
    {
     "name": "stdout",
     "output_type": "stream",
     "text": [
      "Performing grid search...\n",
      "parameters:\n",
      "{'C': [0.01, 0.1, 0.5, 1.5, 10, 100], 'multi_class': ['multinomial', 'ovr']}\n",
      "Fitting 5 folds for each of 12 candidates, totalling 60 fits\n"
     ]
    },
    {
     "name": "stderr",
     "output_type": "stream",
     "text": [
      "[Parallel(n_jobs=-1)]: Using backend LokyBackend with 8 concurrent workers.\n",
      "[Parallel(n_jobs=-1)]: Done  34 tasks      | elapsed:   16.1s\n",
      "[Parallel(n_jobs=-1)]: Done  60 out of  60 | elapsed:   26.7s finished\n"
     ]
    },
    {
     "name": "stdout",
     "output_type": "stream",
     "text": [
      "done in 28.679s\n",
      "\n",
      "Best score: 0.829\n",
      "Best parameters set:\n",
      "\tC: 0.5\n",
      "\tmulti_class: 'multinomial'\n"
     ]
    }
   ],
   "source": [
    "# We modify 2 parameters and plot a heatmap by combining grid search and heatmap\n",
    "param_lr = {\n",
    "    \"C\":[0.01,0.1,0.5,1.5,10,100],\n",
    "    #\"penalty\": [\"12\",\"elasticnet\"],\n",
    "    \"multi_class\":[\"multinomial\",\"ovr\"],\n",
    "}\n",
    "\n",
    "# In red output block, we know best parameter combination\n",
    "if __name__ == \"__main__\":\n",
    "    # Multiprocessing requires the fork to happen in a __main__ protected block\n",
    "\n",
    "    # Find the best parameters for both the feature extraction and the classifier\n",
    "    grid_search_lr = GridSearchCV(LogisticRegression(solver=\"lbfgs\"),param_lr,cv=5,n_jobs=-1,verbose=1)\n",
    "    \n",
    "    print(\"Performing grid search...\")\n",
    "    print(\"parameters:\")\n",
    "    pprint(param_lr)\n",
    "    t0 = time()\n",
    "    grid_search_lr.fit(doc200_train,y_train)\n",
    "    print(\"done in %0.3fs\" % (time() - t0))\n",
    "    print()\n",
    "\n",
    "    print(\"Best score: %0.3f\" % grid_search_lr.best_score_)\n",
    "    print(\"Best parameters set:\")\n",
    "    best_param_lr = grid_search_lr.best_estimator_.get_params()\n",
    "    for param_name in sorted(param_lr.keys()):\n",
    "        print(\"\\t%s: %r\" % (param_name, best_param_lr[param_name]))"
   ]
  },
  {
   "cell_type": "code",
   "execution_count": 91,
   "metadata": {
    "collapsed": false,
    "deletable": true,
    "editable": true
   },
   "outputs": [
    {
     "data": {
      "image/png": "[encoded data removed]",
      "text/plain": [
       "<Figure size 432x288 with 2 Axes>"
      ]
     },
     "metadata": {
      "needs_background": "light"
     },
     "output_type": "display_data"
    }
   ],
   "source": [
    "lr_scores = grid_search_lr.cv_results_[\"mean_test_score\"].reshape(6,2)\n",
    "sns.heatmap(lr_scores,xticklabels=param_lr[\"multi_class\"],yticklabels=param_lr[\"C\"],cmap=\"Reds\")\n",
    "\n",
    "plt.title(\"GridSearch results of LogisticRegression\")\n",
    "plt.xlabel(\"multi_class\")\n",
    "plt.ylabel(\"C\")\n",
    "plt.show()"
   ]
  },
  {
   "cell_type": "code",
   "execution_count": 92,
   "metadata": {
    "collapsed": true,
    "deletable": true,
    "editable": true
   },
   "outputs": [],
   "source": [
    "# Brief analysis:\n",
    "# In every situation, multinomial has higher accuracies than ovr\n",
    "# Multinomial is a joint model while ovr is a stratified model\n",
    "# When C is around 0.5, both multinomial and ovr hit a peak accuracy"
   ]
  },
  {
   "cell_type": "code",
   "execution_count": 93,
   "metadata": {
    "collapsed": false,
    "deletable": true,
    "editable": true
   },
   "outputs": [
    {
     "name": "stdout",
     "output_type": "stream",
     "text": [
      "[learning_curve] Training set sizes: [ 1571  5108  8644 12180 15717]\n"
     ]
    },
    {
     "name": "stderr",
     "output_type": "stream",
     "text": [
      "[Parallel(n_jobs=-1)]: Using backend LokyBackend with 8 concurrent workers.\n",
      "[Parallel(n_jobs=-1)]: Done   2 out of  25 | elapsed:    0.8s remaining:   10.6s\n",
      "[Parallel(n_jobs=-1)]: Done   5 out of  25 | elapsed:    2.3s remaining:    9.5s\n",
      "[Parallel(n_jobs=-1)]: Done   8 out of  25 | elapsed:    3.2s remaining:    6.8s\n",
      "[Parallel(n_jobs=-1)]: Done  11 out of  25 | elapsed:    3.7s remaining:    4.8s\n",
      "[Parallel(n_jobs=-1)]: Done  14 out of  25 | elapsed:    4.6s remaining:    3.6s\n",
      "[Parallel(n_jobs=-1)]: Done  17 out of  25 | elapsed:    5.4s remaining:    2.5s\n",
      "[Parallel(n_jobs=-1)]: Done  20 out of  25 | elapsed:    6.4s remaining:    1.5s\n",
      "[Parallel(n_jobs=-1)]: Done  23 out of  25 | elapsed:    7.1s remaining:    0.5s\n",
      "[Parallel(n_jobs=-1)]: Done  25 out of  25 | elapsed:    7.7s finished\n"
     ]
    }
   ],
   "source": [
    "train_size, learn_train, learn_test = learning_curve(\n",
    "    LogisticRegression(C=0.5,multi_class=\"multinomial\",solver=\"lbfgs\"),doc200_train,y_train,\n",
    "    train_sizes=np.linspace(0.1,1,5),cv=5,n_jobs=-1,verbose=10\n",
    ")"
   ]
  },
  {
   "cell_type": "code",
   "execution_count": 94,
   "metadata": {
    "collapsed": false,
    "deletable": true,
    "editable": true
   },
   "outputs": [
    {
     "data": {
      "text/plain": [
       "(array([0.89879058, 0.85270164, 0.84509486, 0.84114943, 0.84124197]),\n",
       " array([0.00127307, 0.00089799, 0.00086881, 0.00148275, 0.00151978]),\n",
       " array([0.77899953, 0.81900535, 0.82434969, 0.826233  , 0.82877778]),\n",
       " array([0.00516145, 0.00252341, 0.00248597, 0.00343864, 0.00305098]))"
      ]
     },
     "execution_count": 94,
     "metadata": {},
     "output_type": "execute_result"
    }
   ],
   "source": [
    "mean_learn_train = np.mean(learn_train,axis=1)\n",
    "std_learn_train = np.std(learn_train,axis=1)\n",
    "mean_learn_test = np.mean(learn_test,axis=1)\n",
    "std_learn_test = np.std(learn_test,axis=1)\n",
    "mean_learn_train, std_learn_train, mean_learn_test, std_learn_test"
   ]
  },
  {
   "cell_type": "code",
   "execution_count": 95,
   "metadata": {
    "collapsed": false,
    "deletable": true,
    "editable": true
   },
   "outputs": [
    {
     "data": {
      "image/png": "[encoded data removed]",
      "text/plain": [
       "<Figure size 432x288 with 1 Axes>"
      ]
     },
     "metadata": {
      "needs_background": "light"
     },
     "output_type": "display_data"
    }
   ],
   "source": [
    "plt.plot(np.linspace(0.1,1,5),mean_learn_train,label=\"Train Scores\",color=\"r\")\n",
    "plt.fill_between(np.linspace(0.1,1,5),mean_learn_train-std_learn_train,\n",
    "                mean_learn_train+std_learn_train,alpha=0.2,color=\"r\")\n",
    "\n",
    "plt.plot(np.linspace(0.1,1,5),mean_learn_test,label=\"Test Scores\",color=\"b\")\n",
    "plt.fill_between(np.linspace(0.1,1,5),mean_learn_test-std_learn_test,\n",
    "                mean_learn_test+std_learn_test,alpha=0.2,color=\"b\")\n",
    "\n",
    "plt.legend(loc=\"best\")\n",
    "\n",
    "plt.title(\"Learning curve for LogisticRegression\")\n",
    "plt.xlabel(\"Size of training data\")\n",
    "plt.ylabel(\"Accuracy\")\n",
    "plt.show()"
   ]
  },
  {
   "cell_type": "code",
   "execution_count": 96,
   "metadata": {
    "collapsed": true,
    "deletable": true,
    "editable": true
   },
   "outputs": [],
   "source": [
    "# Brief analysis (like LinearSVC)\n",
    "# The wider the gap between 2 curves are, the less accuracy between training and validation, the higher we have risk of overfitting\n",
    "# Test score curve shows that if we input more training data, we would have less std and higher scores\n",
    "# When size of training data hits a specific value, 2 curves will be paralleled (Stablized)\n",
    "\n",
    "# Converging faster than LinearSVC\n",
    "# Compared with LinearSVC, LogisticRegression needs less data to perform better (Advantage)"
   ]
  },
  {
   "cell_type": "code",
   "execution_count": 97,
   "metadata": {
    "collapsed": false,
    "deletable": true,
    "editable": true
   },
   "outputs": [
    {
     "data": {
      "text/plain": [
       "(0.828726874024106, 0.8379052369077307)"
      ]
     },
     "execution_count": 97,
     "metadata": {},
     "output_type": "execute_result"
    }
   ],
   "source": [
    "final_lr = LogisticRegression(C=0.5,solver=\"lbfgs\",multi_class=\"multinomial\").fit(doc200_train,y_train)\n",
    "cvscore(final_lr,doc200_train,y_train,cv=5).mean(), final_lr.score(doc200_devel,y_devel)"
   ]
  },
  {
   "cell_type": "code",
   "execution_count": 98,
   "metadata": {
    "collapsed": true,
    "deletable": true,
    "editable": true
   },
   "outputs": [],
   "source": [
    "# generative model vs discriminative model"
   ]
  },
  {
   "cell_type": "markdown",
   "metadata": {
    "deletable": true,
    "editable": true
   },
   "source": [
    "## Ensemble Models"
   ]
  },
  {
   "cell_type": "code",
   "execution_count": 99,
   "metadata": {
    "collapsed": true,
    "deletable": true,
    "editable": true
   },
   "outputs": [],
   "source": [
    "# Import bagging, voting, random forest, and boosting classifiers\n",
    "from sklearn.ensemble import BaggingClassifier, VotingClassifier, StackingClassifier, RandomForestClassifier, AdaBoostClassifier, GradientBoostingClassifier\n",
    "from sklearn.tree import DecisionTreeClassifier"
   ]
  },
  {
   "cell_type": "code",
   "execution_count": 100,
   "metadata": {
    "collapsed": true,
    "deletable": true,
    "editable": true
   },
   "outputs": [],
   "source": [
    "base_classifiers = [\n",
    "    (\"sgd\", SGDClassifier()),\n",
    "    (\"dt\", DecisionTreeClassifier()),\n",
    "    # Switch default solver to saga, because default solver does not support sparse matirx while saga runs fast\n",
    "    (\"lr\", LogisticRegression(C=0.5,solver=\"saga\",multi_class=\"multinomial\")),\n",
    "    (\"mnb\", MNB()),\n",
    "    (\"svc\", LinearSVC(C=best_C))\n",
    "]"
   ]
  },
  {
   "cell_type": "markdown",
   "metadata": {
    "deletable": true,
    "editable": true
   },
   "source": [
    "### Bagging"
   ]
  },
  {
   "cell_type": "code",
   "execution_count": 101,
   "metadata": {
    "collapsed": false,
    "deletable": true,
    "editable": true
   },
   "outputs": [
    {
     "data": {
      "text/plain": [
       "(0.8476104415719996, 0.8532240826505165)"
      ]
     },
     "execution_count": 101,
     "metadata": {},
     "output_type": "execute_result"
    }
   ],
   "source": [
    "# Use decision tree as base classifier\n",
    "bagging = BaggingClassifier(base_estimator=SGDClassifier()).fit(train_20K,y_train)\n",
    "cvscore(bagging,train_20K,y_train,cv=5).mean(), bagging.score(devel_20K,y_devel)"
   ]
  },
  {
   "cell_type": "markdown",
   "metadata": {
    "deletable": true,
    "editable": true
   },
   "source": [
    "### Voting"
   ]
  },
  {
   "cell_type": "code",
   "execution_count": 102,
   "metadata": {
    "collapsed": false,
    "deletable": true,
    "editable": true
   },
   "outputs": [
    {
     "data": {
      "text/plain": [
       "(0.8404337939909216, 0.8487115544472152)"
      ]
     },
     "execution_count": 102,
     "metadata": {},
     "output_type": "execute_result"
    }
   ],
   "source": [
    "voting = VotingClassifier(estimators=base_classifiers,voting=\"hard\")\n",
    "voting.fit(train_20K,y_train)\n",
    "cvscore(voting,train_20K,y_train,cv=5).mean(), voting.score(devel_20K,y_devel)"
   ]
  },
  {
   "cell_type": "markdown",
   "metadata": {
    "deletable": true,
    "editable": true
   },
   "source": [
    "### Random Forest"
   ]
  },
  {
   "cell_type": "code",
   "execution_count": 103,
   "metadata": {
    "collapsed": false,
    "deletable": true,
    "editable": true
   },
   "outputs": [
    {
     "name": "stderr",
     "output_type": "stream",
     "text": [
      "[Parallel(n_jobs=-1)]: Using backend ThreadingBackend with 8 concurrent workers.\n",
      "[Parallel(n_jobs=-1)]: Done  34 tasks      | elapsed:    4.7s\n",
      "[Parallel(n_jobs=-1)]: Done 100 out of 100 | elapsed:   12.0s finished\n",
      "[Parallel(n_jobs=-1)]: Using backend LokyBackend with 8 concurrent workers.\n",
      "[Parallel(n_jobs=-1)]: Done  34 tasks      | elapsed:    4.9s\n",
      "[Parallel(n_jobs=-1)]: Done 100 out of 100 | elapsed:   12.6s finished\n",
      "[Parallel(n_jobs=8)]: Using backend ThreadingBackend with 8 concurrent workers.\n",
      "[Parallel(n_jobs=8)]: Done  34 tasks      | elapsed:    0.0s\n",
      "[Parallel(n_jobs=8)]: Done 100 out of 100 | elapsed:    0.0s finished\n",
      "[Parallel(n_jobs=-1)]: Using backend LokyBackend with 8 concurrent workers.\n",
      "[Parallel(n_jobs=-1)]: Done  34 tasks      | elapsed:    4.8s\n",
      "[Parallel(n_jobs=-1)]: Done 100 out of 100 | elapsed:   13.4s finished\n",
      "[Parallel(n_jobs=8)]: Using backend ThreadingBackend with 8 concurrent workers.\n",
      "[Parallel(n_jobs=8)]: Done  34 tasks      | elapsed:    0.0s\n",
      "[Parallel(n_jobs=8)]: Done 100 out of 100 | elapsed:    0.0s finished\n",
      "[Parallel(n_jobs=-1)]: Using backend LokyBackend with 8 concurrent workers.\n",
      "[Parallel(n_jobs=-1)]: Done  34 tasks      | elapsed:    5.1s\n",
      "[Parallel(n_jobs=-1)]: Done 100 out of 100 | elapsed:   13.0s finished\n",
      "[Parallel(n_jobs=8)]: Using backend ThreadingBackend with 8 concurrent workers.\n",
      "[Parallel(n_jobs=8)]: Done  34 tasks      | elapsed:    0.0s\n",
      "[Parallel(n_jobs=8)]: Done 100 out of 100 | elapsed:    0.0s finished\n",
      "[Parallel(n_jobs=-1)]: Using backend LokyBackend with 8 concurrent workers.\n",
      "[Parallel(n_jobs=-1)]: Done  34 tasks      | elapsed:    5.0s\n",
      "[Parallel(n_jobs=-1)]: Done 100 out of 100 | elapsed:   12.9s finished\n",
      "[Parallel(n_jobs=8)]: Using backend ThreadingBackend with 8 concurrent workers.\n",
      "[Parallel(n_jobs=8)]: Done  34 tasks      | elapsed:    0.0s\n",
      "[Parallel(n_jobs=8)]: Done 100 out of 100 | elapsed:    0.0s finished\n",
      "[Parallel(n_jobs=-1)]: Using backend LokyBackend with 8 concurrent workers.\n",
      "[Parallel(n_jobs=-1)]: Done  34 tasks      | elapsed:    4.8s\n",
      "[Parallel(n_jobs=-1)]: Done 100 out of 100 | elapsed:   12.2s finished\n",
      "[Parallel(n_jobs=8)]: Using backend ThreadingBackend with 8 concurrent workers.\n",
      "[Parallel(n_jobs=8)]: Done  34 tasks      | elapsed:    0.0s\n",
      "[Parallel(n_jobs=8)]: Done 100 out of 100 | elapsed:    0.1s finished\n",
      "[Parallel(n_jobs=8)]: Using backend ThreadingBackend with 8 concurrent workers.\n",
      "[Parallel(n_jobs=8)]: Done  34 tasks      | elapsed:    0.0s\n",
      "[Parallel(n_jobs=8)]: Done 100 out of 100 | elapsed:    0.1s finished\n"
     ]
    },
    {
     "data": {
      "text/plain": [
       "(0.748562272966012, 0.7615485096781854)"
      ]
     },
     "execution_count": 103,
     "metadata": {},
     "output_type": "execute_result"
    }
   ],
   "source": [
    "# Decision tree is not competent with dealing with this problem, as we have heaps of features\n",
    "rf = RandomForestClassifier(n_jobs=-1,n_estimators=100,verbose=1).fit(train_20K,y_train)\n",
    "cvscore(rf,train_20K,y_train,cv=5).mean(), rf.score(devel_20K,y_devel)"
   ]
  },
  {
   "cell_type": "code",
   "execution_count": 104,
   "metadata": {
    "collapsed": true,
    "deletable": true,
    "editable": true
   },
   "outputs": [],
   "source": [
    "# Brief analysis\n",
    "# Both random forest and decision tree do not output a high result\n",
    "# A reason would be that we have tremendous features and instances in this problem\n",
    "# https://www.quora.com/What-are-the-advantages-and-disadvantages-for-a-random-forest-algorithm"
   ]
  },
  {
   "cell_type": "markdown",
   "metadata": {
    "deletable": true,
    "editable": true
   },
   "source": [
    "### Boosting"
   ]
  },
  {
   "cell_type": "code",
   "execution_count": 105,
   "metadata": {
    "collapsed": false,
    "deletable": true,
    "editable": true
   },
   "outputs": [
    {
     "data": {
      "text/plain": [
       "(0.7764037751514316, 0.7848236551478447)"
      ]
     },
     "execution_count": 105,
     "metadata": {},
     "output_type": "execute_result"
    }
   ],
   "source": [
    "# A simple decision tree with depth 1\n",
    "ab = AdaBoostClassifier().fit(train_20K,y_train)\n",
    "cvscore(ab,train_20K,y_train,cv=5).mean(), ab.score(devel_20K,y_devel)"
   ]
  },
  {
   "cell_type": "code",
   "execution_count": 106,
   "metadata": {
    "collapsed": true,
    "deletable": true,
    "editable": true
   },
   "outputs": [],
   "source": [
    "# # A simple decision tree with depth 1\n",
    "# gb = GradientBoostingClassifier().fit(train_20K,y_train)\n",
    "# cvscore(gb,train_20K,y_train,cv=5).mean(), gb.score(devel_20K,y_devel)"
   ]
  },
  {
   "cell_type": "markdown",
   "metadata": {
    "deletable": true,
    "editable": true
   },
   "source": [
    "### Stacking"
   ]
  },
  {
   "cell_type": "code",
   "execution_count": 107,
   "metadata": {
    "collapsed": false,
    "deletable": true,
    "editable": true
   },
   "outputs": [
    {
     "data": {
      "text/plain": [
       "(0.8513259594442578, 0.8564303526897044)"
      ]
     },
     "execution_count": 107,
     "metadata": {},
     "output_type": "execute_result"
    }
   ],
   "source": [
    "estimators = [('svc', LinearSVC(random_state=42))]\n",
    "st = StackingClassifier(estimators=estimators).fit(train_20K,y_train)\n",
    "cvscore(st,train_20K,y_train,cv=5).mean(), st.score(devel_20K,y_devel)"
   ]
  },
  {
   "cell_type": "markdown",
   "metadata": {
    "deletable": true,
    "editable": true
   },
   "source": [
    "### Adding feedback information"
   ]
  },
  {
   "cell_type": "code",
   "execution_count": 108,
   "metadata": {
    "collapsed": true,
    "deletable": true,
    "editable": true
   },
   "outputs": [],
   "source": [
    "# Breif analysis"
   ]
  },
  {
   "cell_type": "code",
   "execution_count": 109,
   "metadata": {
    "collapsed": false,
    "deletable": true,
    "editable": true
   },
   "outputs": [
    {
     "data": {
      "text/html": [
       "<div>\n",
       "<style scoped>\n",
       "    .dataframe tbody tr th:only-of-type {\n",
       "        vertical-align: middle;\n",
       "    }\n",
       "\n",
       "    .dataframe tbody tr th {\n",
       "        vertical-align: top;\n",
       "    }\n",
       "\n",
       "    .dataframe thead th {\n",
       "        text-align: right;\n",
       "    }\n",
       "</style>\n",
       "<table border=\"1\" class=\"dataframe\">\n",
       "  <thead>\n",
       "    <tr style=\"text-align: right;\">\n",
       "      <th></th>\n",
       "      <th>0</th>\n",
       "      <th>1</th>\n",
       "      <th>2</th>\n",
       "      <th>3</th>\n",
       "      <th>4</th>\n",
       "      <th>5</th>\n",
       "      <th>6</th>\n",
       "      <th>7</th>\n",
       "      <th>8</th>\n",
       "      <th>9</th>\n",
       "      <th>...</th>\n",
       "      <th>43</th>\n",
       "      <th>44</th>\n",
       "      <th>45</th>\n",
       "      <th>46</th>\n",
       "      <th>47</th>\n",
       "      <th>48</th>\n",
       "      <th>49</th>\n",
       "      <th>vote_funny</th>\n",
       "      <th>vote_cool</th>\n",
       "      <th>vote_useful</th>\n",
       "    </tr>\n",
       "  </thead>\n",
       "  <tbody>\n",
       "    <tr>\n",
       "      <th>0</th>\n",
       "      <td>0.878508</td>\n",
       "      <td>-0.921865</td>\n",
       "      <td>1.041951</td>\n",
       "      <td>-0.442659</td>\n",
       "      <td>0.314465</td>\n",
       "      <td>0.516447</td>\n",
       "      <td>-0.483630</td>\n",
       "      <td>1.740442</td>\n",
       "      <td>1.186326</td>\n",
       "      <td>0.975157</td>\n",
       "      <td>...</td>\n",
       "      <td>-1.427045</td>\n",
       "      <td>0.671864</td>\n",
       "      <td>-1.269260</td>\n",
       "      <td>0.366261</td>\n",
       "      <td>-1.461988</td>\n",
       "      <td>-1.354277</td>\n",
       "      <td>0.846137</td>\n",
       "      <td>0</td>\n",
       "      <td>1</td>\n",
       "      <td>3</td>\n",
       "    </tr>\n",
       "    <tr>\n",
       "      <th>1</th>\n",
       "      <td>0.702511</td>\n",
       "      <td>-0.307338</td>\n",
       "      <td>1.182641</td>\n",
       "      <td>-0.647916</td>\n",
       "      <td>0.608985</td>\n",
       "      <td>0.006024</td>\n",
       "      <td>-0.420182</td>\n",
       "      <td>0.645829</td>\n",
       "      <td>-0.234737</td>\n",
       "      <td>2.084816</td>\n",
       "      <td>...</td>\n",
       "      <td>0.739345</td>\n",
       "      <td>-2.734058</td>\n",
       "      <td>-0.994866</td>\n",
       "      <td>-0.899577</td>\n",
       "      <td>-0.291003</td>\n",
       "      <td>-0.137514</td>\n",
       "      <td>-0.541647</td>\n",
       "      <td>0</td>\n",
       "      <td>0</td>\n",
       "      <td>0</td>\n",
       "    </tr>\n",
       "    <tr>\n",
       "      <th>2</th>\n",
       "      <td>0.163672</td>\n",
       "      <td>0.493242</td>\n",
       "      <td>1.130909</td>\n",
       "      <td>-1.848056</td>\n",
       "      <td>1.883512</td>\n",
       "      <td>-2.317537</td>\n",
       "      <td>2.192569</td>\n",
       "      <td>0.942131</td>\n",
       "      <td>1.660533</td>\n",
       "      <td>-2.046016</td>\n",
       "      <td>...</td>\n",
       "      <td>-0.477067</td>\n",
       "      <td>-0.843311</td>\n",
       "      <td>-0.235060</td>\n",
       "      <td>-3.267487</td>\n",
       "      <td>-0.080276</td>\n",
       "      <td>-2.365990</td>\n",
       "      <td>-0.088761</td>\n",
       "      <td>1</td>\n",
       "      <td>0</td>\n",
       "      <td>1</td>\n",
       "    </tr>\n",
       "    <tr>\n",
       "      <th>3</th>\n",
       "      <td>-1.464438</td>\n",
       "      <td>0.962851</td>\n",
       "      <td>-0.362837</td>\n",
       "      <td>0.139058</td>\n",
       "      <td>0.371398</td>\n",
       "      <td>-0.477407</td>\n",
       "      <td>0.075963</td>\n",
       "      <td>0.517986</td>\n",
       "      <td>-0.484253</td>\n",
       "      <td>1.322117</td>\n",
       "      <td>...</td>\n",
       "      <td>0.666551</td>\n",
       "      <td>0.454338</td>\n",
       "      <td>0.735081</td>\n",
       "      <td>-0.456556</td>\n",
       "      <td>-1.040474</td>\n",
       "      <td>-1.095729</td>\n",
       "      <td>-0.418161</td>\n",
       "      <td>17</td>\n",
       "      <td>3</td>\n",
       "      <td>3</td>\n",
       "    </tr>\n",
       "    <tr>\n",
       "      <th>4</th>\n",
       "      <td>-0.652090</td>\n",
       "      <td>0.351715</td>\n",
       "      <td>-1.870239</td>\n",
       "      <td>0.047474</td>\n",
       "      <td>2.558941</td>\n",
       "      <td>-0.110524</td>\n",
       "      <td>0.068561</td>\n",
       "      <td>2.161655</td>\n",
       "      <td>-1.361464</td>\n",
       "      <td>-0.274840</td>\n",
       "      <td>...</td>\n",
       "      <td>1.608605</td>\n",
       "      <td>-0.397988</td>\n",
       "      <td>-2.350459</td>\n",
       "      <td>-0.925956</td>\n",
       "      <td>0.500559</td>\n",
       "      <td>1.315240</td>\n",
       "      <td>0.265349</td>\n",
       "      <td>0</td>\n",
       "      <td>0</td>\n",
       "      <td>0</td>\n",
       "    </tr>\n",
       "  </tbody>\n",
       "</table>\n",
       "<p>5 rows × 53 columns</p>\n",
       "</div>"
      ],
      "text/plain": [
       "          0         1         2         3         4         5         6  \\\n",
       "0  0.878508 -0.921865  1.041951 -0.442659  0.314465  0.516447 -0.483630   \n",
       "1  0.702511 -0.307338  1.182641 -0.647916  0.608985  0.006024 -0.420182   \n",
       "2  0.163672  0.493242  1.130909 -1.848056  1.883512 -2.317537  2.192569   \n",
       "3 -1.464438  0.962851 -0.362837  0.139058  0.371398 -0.477407  0.075963   \n",
       "4 -0.652090  0.351715 -1.870239  0.047474  2.558941 -0.110524  0.068561   \n",
       "\n",
       "          7         8         9  ...        43        44        45        46  \\\n",
       "0  1.740442  1.186326  0.975157  ... -1.427045  0.671864 -1.269260  0.366261   \n",
       "1  0.645829 -0.234737  2.084816  ...  0.739345 -2.734058 -0.994866 -0.899577   \n",
       "2  0.942131  1.660533 -2.046016  ... -0.477067 -0.843311 -0.235060 -3.267487   \n",
       "3  0.517986 -0.484253  1.322117  ...  0.666551  0.454338  0.735081 -0.456556   \n",
       "4  2.161655 -1.361464 -0.274840  ...  1.608605 -0.397988 -2.350459 -0.925956   \n",
       "\n",
       "         47        48        49  vote_funny  vote_cool  vote_useful  \n",
       "0 -1.461988 -1.354277  0.846137           0          1            3  \n",
       "1 -0.291003 -0.137514 -0.541647           0          0            0  \n",
       "2 -0.080276 -2.365990 -0.088761           1          0            1  \n",
       "3 -1.040474 -1.095729 -0.418161          17          3            3  \n",
       "4  0.500559  1.315240  0.265349           0          0            0  \n",
       "\n",
       "[5 rows x 53 columns]"
      ]
     },
     "execution_count": 109,
     "metadata": {},
     "output_type": "execute_result"
    }
   ],
   "source": [
    "train_doc2vec53 = train_doc2vec50.join(feedback)\n",
    "train_doc2vec53.head()"
   ]
  },
  {
   "cell_type": "code",
   "execution_count": 110,
   "metadata": {
    "collapsed": true,
    "deletable": true,
    "editable": true
   },
   "outputs": [],
   "source": [
    "fb_50_train, fb_50_devel = train_test_split(train_doc2vec53,test_size=0.3,random_state=42)"
   ]
  },
  {
   "cell_type": "code",
   "execution_count": 111,
   "metadata": {
    "collapsed": false,
    "deletable": true,
    "editable": true
   },
   "outputs": [
    {
     "data": {
      "text/plain": [
       "0.8191426196413728"
      ]
     },
     "execution_count": 111,
     "metadata": {},
     "output_type": "execute_result"
    }
   ],
   "source": [
    "LogisticRegression().fit(doc50_train,y_train).score(doc50_devel,y_devel)"
   ]
  },
  {
   "cell_type": "code",
   "execution_count": 112,
   "metadata": {
    "collapsed": false,
    "deletable": true,
    "editable": true
   },
   "outputs": [
    {
     "data": {
      "text/plain": [
       "0.8235363971024819"
      ]
     },
     "execution_count": 112,
     "metadata": {},
     "output_type": "execute_result"
    }
   ],
   "source": [
    "LogisticRegression().fit(fb_50_train,y_train).score(fb_50_devel,y_devel)"
   ]
  },
  {
   "cell_type": "code",
   "execution_count": 113,
   "metadata": {
    "collapsed": true,
    "deletable": true,
    "editable": true
   },
   "outputs": [],
   "source": [
    "fb_train, fb_devel = train_test_split(feedback,test_size=0.3,random_state=42)"
   ]
  },
  {
   "cell_type": "code",
   "execution_count": 114,
   "metadata": {
    "collapsed": false,
    "deletable": true,
    "editable": true
   },
   "outputs": [
    {
     "data": {
      "text/plain": [
       "<19647x20003 sparse matrix of type '<class 'numpy.float64'>'\n",
       "\twith 929465 stored elements in COOrdinate format>"
      ]
     },
     "execution_count": 114,
     "metadata": {},
     "output_type": "execute_result"
    }
   ],
   "source": [
    "train_20K_fb = sparse.hstack((train_20K,fb_train))\n",
    "train_20K_fb"
   ]
  },
  {
   "cell_type": "code",
   "execution_count": 115,
   "metadata": {
    "collapsed": true,
    "deletable": true,
    "editable": true
   },
   "outputs": [],
   "source": [
    "dev_20K_fb = LinearSVC(C=best_C).fit(train_20K,y_train)\n"
   ]
  },
  {
   "cell_type": "code",
   "execution_count": 116,
   "metadata": {
    "collapsed": false,
    "deletable": true,
    "editable": true
   },
   "outputs": [
    {
     "data": {
      "text/plain": [
       "(0.8499518359274061, 0.8561928512053201)"
      ]
     },
     "execution_count": 116,
     "metadata": {},
     "output_type": "execute_result"
    }
   ],
   "source": [
    "final_svc = LinearSVC(C=best_C).fit(train_20K,y_train)\n",
    "cvscore(final_svc,train_20K,y_train,cv=5).mean(), final_svc.score(devel_20K,y_devel)"
   ]
  },
  {
   "cell_type": "markdown",
   "metadata": {
    "deletable": true,
    "editable": true
   },
   "source": [
    "### Feature Importance"
   ]
  },
  {
   "cell_type": "markdown",
   "metadata": {
    "deletable": true,
    "editable": true
   },
   "source": [
    "#### SelectKBest"
   ]
  },
  {
   "cell_type": "code",
   "execution_count": 117,
   "metadata": {
    "collapsed": false,
    "deletable": true,
    "editable": true
   },
   "outputs": [
    {
     "data": {
      "text/plain": [
       "array([9.40618135, 1.05978623, 0.10308585, ..., 0.4120714 , 0.04562532,\n",
       "       0.06109199])"
      ]
     },
     "execution_count": 117,
     "metadata": {},
     "output_type": "execute_result"
    }
   ],
   "source": [
    "kbest.scores_"
   ]
  },
  {
   "cell_type": "code",
   "execution_count": 118,
   "metadata": {
    "collapsed": false,
    "deletable": true,
    "editable": true
   },
   "outputs": [
    {
     "data": {
      "text/plain": [
       "35528"
      ]
     },
     "execution_count": 118,
     "metadata": {},
     "output_type": "execute_result"
    }
   ],
   "source": [
    "# Number of nan\n",
    "sum(~np.isnan(kbest.scores_))"
   ]
  },
  {
   "cell_type": "code",
   "execution_count": 119,
   "metadata": {
    "collapsed": false,
    "deletable": true,
    "editable": true
   },
   "outputs": [
    {
     "data": {
      "text/plain": [
       "array([41047, 18347, 25682, 37036,  2788,  3212, 37621, 22554,  1985,\n",
       "       10200,  4452, 28798,  4136, 26319, 36732, 23147, 23712, 40240,\n",
       "       11268, 25686], dtype=int64)"
      ]
     },
     "execution_count": 119,
     "metadata": {},
     "output_type": "execute_result"
    }
   ],
   "source": [
    "# Select 20 highest-scored features\n",
    "kbest.scores_.argsort()[:35527][-20:][::-1]"
   ]
  },
  {
   "cell_type": "code",
   "execution_count": 120,
   "metadata": {
    "collapsed": false,
    "deletable": true,
    "editable": true
   },
   "outputs": [
    {
     "data": {
      "text/plain": [
       "160.51221424382587"
      ]
     },
     "execution_count": 120,
     "metadata": {},
     "output_type": "execute_result"
    }
   ],
   "source": [
    "kbest.scores_[41047]"
   ]
  },
  {
   "cell_type": "code",
   "execution_count": 121,
   "metadata": {
    "collapsed": false,
    "deletable": true,
    "editable": true
   },
   "outputs": [
    {
     "data": {
      "text/plain": [
       "[(160.51221424382587, 'worst'),\n",
       " (126.66413016303477, 'horrible'),\n",
       " (123.06654297677781, 'ok'),\n",
       " (111.43595706737318, 'terrible'),\n",
       " (90.60258490204376, 'asked'),\n",
       " (86.07749858012025, 'awful'),\n",
       " (80.40067363104508, 'told'),\n",
       " (78.12863542882633, 'manager'),\n",
       " (70.62617700007742, 'amazing'),\n",
       " (69.19617147707626, 'decent'),\n",
       " (65.70059048623983, 'bland'),\n",
       " (64.83481117519912, 'pretty'),\n",
       " (62.007841740049585, 'best'),\n",
       " (61.58491904600238, 'overpriced'),\n",
       " (60.62160336242613, 'tasteless'),\n",
       " (59.622004627101276, 'mediocre'),\n",
       " (59.08336840422151, 'minutes'),\n",
       " (58.235029088904646, 'waste'),\n",
       " (57.40751704113822, 'disgusting'),\n",
       " (55.73533025789517, 'okay')]"
      ]
     },
     "execution_count": 121,
     "metadata": {},
     "output_type": "execute_result"
    }
   ],
   "source": [
    "array = kbest.scores_\n",
    "n_not_nan = sum(~np.isnan(array))\n",
    "names = []\n",
    "# Indexes of 20 features with highest score\n",
    "indexes = array.argsort()[:n_not_nan-1][-20:][::-1]\n",
    "for i in indexes:\n",
    "    names.append(vocabulary.get_feature_names()[i])\n",
    "scores = [array[i] for i in indexes]\n",
    "scores_names = sorted(zip(scores,names),reverse=True)\n",
    "\n",
    "# List 20 highest-scored vocabularies\n",
    "# Apparently many of them are emotional\n",
    "scores_names"
   ]
  },
  {
   "cell_type": "markdown",
   "metadata": {
    "deletable": true,
    "editable": true
   },
   "source": [
    "## Prediction"
   ]
  },
  {
   "cell_type": "code",
   "execution_count": 122,
   "metadata": {
    "collapsed": false,
    "deletable": true,
    "editable": true
   },
   "outputs": [
    {
     "data": {
      "text/plain": [
       "<7018x20000 sparse matrix of type '<class 'numpy.float64'>'\n",
       "\twith 325171 stored elements in Compressed Sparse Row format>"
      ]
     },
     "execution_count": 122,
     "metadata": {},
     "output_type": "execute_result"
    }
   ],
   "source": [
    "test_20K"
   ]
  },
  {
   "cell_type": "code",
   "execution_count": 123,
   "metadata": {
    "collapsed": false,
    "deletable": true,
    "editable": true
   },
   "outputs": [
    {
     "data": {
      "text/plain": [
       "array([5, 5, 1, ..., 3, 5, 5], dtype=int64)"
      ]
     },
     "execution_count": 123,
     "metadata": {},
     "output_type": "execute_result"
    }
   ],
   "source": [
    "pred = final_svc.predict(test_20K)\n",
    "pred"
   ]
  },
  {
   "cell_type": "code",
   "execution_count": 124,
   "metadata": {
    "collapsed": false,
    "deletable": true,
    "editable": true
   },
   "outputs": [
    {
     "data": {
      "text/html": [
       "<div>\n",
       "<style scoped>\n",
       "    .dataframe tbody tr th:only-of-type {\n",
       "        vertical-align: middle;\n",
       "    }\n",
       "\n",
       "    .dataframe tbody tr th {\n",
       "        vertical-align: top;\n",
       "    }\n",
       "\n",
       "    .dataframe thead th {\n",
       "        text-align: right;\n",
       "    }\n",
       "</style>\n",
       "<table border=\"1\" class=\"dataframe\">\n",
       "  <thead>\n",
       "    <tr style=\"text-align: right;\">\n",
       "      <th></th>\n",
       "      <th>Instance_id</th>\n",
       "      <th>rating</th>\n",
       "    </tr>\n",
       "  </thead>\n",
       "  <tbody>\n",
       "    <tr>\n",
       "      <th>0</th>\n",
       "      <td>1</td>\n",
       "      <td>5</td>\n",
       "    </tr>\n",
       "    <tr>\n",
       "      <th>1</th>\n",
       "      <td>2</td>\n",
       "      <td>5</td>\n",
       "    </tr>\n",
       "    <tr>\n",
       "      <th>2</th>\n",
       "      <td>3</td>\n",
       "      <td>1</td>\n",
       "    </tr>\n",
       "    <tr>\n",
       "      <th>3</th>\n",
       "      <td>4</td>\n",
       "      <td>5</td>\n",
       "    </tr>\n",
       "    <tr>\n",
       "      <th>4</th>\n",
       "      <td>5</td>\n",
       "      <td>5</td>\n",
       "    </tr>\n",
       "  </tbody>\n",
       "</table>\n",
       "</div>"
      ],
      "text/plain": [
       "   Instance_id  rating\n",
       "0            1       5\n",
       "1            2       5\n",
       "2            3       1\n",
       "3            4       5\n",
       "4            5       5"
      ]
     },
     "execution_count": 124,
     "metadata": {},
     "output_type": "execute_result"
    }
   ],
   "source": [
    "test_review = pd.read_csv(\"COMP30027_2020_assignment2_datasets/review_text_test.csv\")\n",
    "test_out = pd.DataFrame()\n",
    "test_out[\"Instance_id\"] = test_review.index\n",
    "test_out[\"rating\"] = pred\n",
    "test_out[\"Instance_id\"] = test_out[\"Instance_id\"] + 1\n",
    "test_out.head()"
   ]
  },
  {
   "cell_type": "code",
   "execution_count": 125,
   "metadata": {
    "collapsed": true,
    "deletable": true,
    "editable": true
   },
   "outputs": [],
   "source": [
    "test_out.to_csv(\"predict.csv\",index=False)"
   ]
  },
  {
   "cell_type": "code",
   "execution_count": 141,
   "metadata": {
    "collapsed": true,
    "deletable": true,
    "editable": true
   },
   "outputs": [],
   "source": [
    "doc200_test = pd.read_csv(\"COMP30027_2020_assignment2_datasets/review_text_features_doc2vec200/review_text_test_doc2vec200.csv\",header=None)"
   ]
  },
  {
   "cell_type": "code",
   "execution_count": 142,
   "metadata": {
    "collapsed": false,
    "deletable": true,
    "editable": true
   },
   "outputs": [
    {
     "data": {
      "text/plain": [
       "(7018,)"
      ]
     },
     "execution_count": 142,
     "metadata": {},
     "output_type": "execute_result"
    }
   ],
   "source": [
    "pred2 = final_lr.predict(doc200_test)\n",
    "pred2.shape"
   ]
  },
  {
   "cell_type": "code",
   "execution_count": 143,
   "metadata": {
    "collapsed": true,
    "deletable": true,
    "editable": true
   },
   "outputs": [],
   "source": [
    "test_review = pd.read_csv(\"COMP30027_2020_assignment2_datasets/review_text_test.csv\")\n",
    "test_out2 = pd.DataFrame()\n",
    "test_out2[\"Instance_id\"] = test_review.index\n",
    "test_out2[\"rating\"] = pred2\n",
    "test_out2[\"Instance_id\"] = test_out2[\"Instance_id\"] + 1\n",
    "test_out2.head()\n",
    "test_out2.to_csv(\"predict2.csv\",index=False)"
   ]
  }
 ],
 "metadata": {
  "kernelspec": {
   "display_name": "Python 2",
   "language": "python",
   "name": "python2"
  },
  "language_info": {
   "codemirror_mode": {
    "name": "ipython",
    "version": 2
   },
   "file_extension": ".py",
   "mimetype": "text/x-python",
   "name": "python",
   "nbconvert_exporter": "python",
   "pygments_lexer": "ipython2",
   "version": "2.7.13"
  }
 },
 "nbformat": 4,
 "nbformat_minor": 4
}
